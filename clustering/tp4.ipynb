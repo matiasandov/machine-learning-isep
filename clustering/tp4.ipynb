{
 "cells": [
  {
   "cell_type": "markdown",
   "id": "c2c9b17a",
   "metadata": {},
   "source": [
    "2 Part II : Practical application"
   ]
  },
  {
   "cell_type": "markdown",
   "id": "a4266cfa",
   "metadata": {},
   "source": [
    "2.1 K-means clustering"
   ]
  },
  {
   "cell_type": "markdown",
   "id": "c085bc11",
   "metadata": {},
   "source": [
    "we generate the data"
   ]
  },
  {
   "cell_type": "code",
   "execution_count": 1,
   "id": "31ef6e4a",
   "metadata": {},
   "outputs": [],
   "source": [
    "import numpy as np\n",
    "X = np.random.randn(50,2)\n",
    "X[ 0 : 25 ,0 ] = X[ 0:25,0]+3\n",
    "X[ 0 : 25,1 ] = X[ 0:25,1]-4"
   ]
  },
  {
   "cell_type": "markdown",
   "id": "abcdda13",
   "metadata": {},
   "source": [
    "We plot the data to observe the two separated clusters."
   ]
  },
  {
   "cell_type": "code",
   "execution_count": 2,
   "id": "7f0fee18",
   "metadata": {},
   "outputs": [
    {
     "data": {
      "text/plain": [
       "Text(0, 0.5, 'X2')"
      ]
     },
     "execution_count": 2,
     "metadata": {},
     "output_type": "execute_result"
    },
    {
     "data": {
      "image/png": "[encoded data removed]",
      "text/plain": [
       "<Figure size 432x288 with 1 Axes>"
      ]
     },
     "metadata": {
      "needs_background": "light"
     },
     "output_type": "display_data"
    }
   ],
   "source": [
    "import matplotlib.pyplot as plt\n",
    "plt. plot(X[:,0] , X[:,1],\"o\")\n",
    "plt. xlabel( \"X1\")\n",
    "plt.ylabel(\"X2\")\n"
   ]
  },
  {
   "cell_type": "markdown",
   "id": "aa96c1d9",
   "metadata": {},
   "source": [
    "As we can see, the data is clearly divided in two parts and in clustering methods we want to create groups of data that share features ranges, so to improve it, this data is really demostrative."
   ]
  },
  {
   "cell_type": "code",
   "execution_count": 3,
   "id": "195106e9",
   "metadata": {},
   "outputs": [
    {
     "name": "stdout",
     "output_type": "stream",
     "text": [
      "[0 0 0 0 0 0 0 0 0 0 0 0 0 0 0 0 0 0 0 0 0 0 0 0 1 1 1 1 1 1 1 1 1 1 1 1 1\n",
      " 1 1 1 1 1 1 1 1 1 1 1 1 1]\n",
      "[[ 2.64550912 -4.00145188]\n",
      " [ 0.14732432  0.1908576 ]]\n"
     ]
    }
   ],
   "source": [
    "from sklearn.cluster import KMeans\n",
    "kmeans = KMeans(n_clusters= 2 , random_state = 100).fit(X)\n",
    "print(kmeans.labels_)\n",
    "print(kmeans.cluster_centers_)"
   ]
  },
  {
   "cell_type": "markdown",
   "id": "81ffce08",
   "metadata": {},
   "source": [
    "We can see that as well as we improve the algorithm, we specified to the Kmeans function that we want to clusters, and we have it, the first group of data we can see in the graphic is classified in group 1, since the other one is classified in group 2."
   ]
  },
  {
   "cell_type": "code",
   "execution_count": 4,
   "id": "58ae2207",
   "metadata": {},
   "outputs": [
    {
     "data": {
      "text/plain": [
       "Text(0, 0.5, 'X2')"
      ]
     },
     "execution_count": 4,
     "metadata": {},
     "output_type": "execute_result"
    },
    {
     "data": {
      "image/png": "[encoded data removed]",
      "text/plain": [
       "<Figure size 432x288 with 1 Axes>"
      ]
     },
     "metadata": {
      "needs_background": "light"
     },
     "output_type": "display_data"
    }
   ],
   "source": [
    "for i in range (0,X.shape[0]) :\n",
    "    if kmeans.labels_[i] == 0 :\n",
    "        plt.plot(X[i:,0],X[i:,1], \"o \", color= \"red\")\n",
    "    else:\n",
    "        plt.plot(X[i:,0],X[i:,1],\"o\" , color= \"blue\")\n",
    "        centroid1=kmeans.cluster_centers_[0]\n",
    "centroid2=kmeans.cluster_centers_[1]\n",
    "plt.plot(centroid1[0],centroid1[1], \"*\" , color= \"black\" ,markersize=15)\n",
    "plt.plot(centroid2[0],centroid2[1] , \"*\"  , color= \"black\", markersize = 15)\n",
    "plt.xlabel(\"X1\")\n",
    "plt.ylabel(\"X2\")"
   ]
  },
  {
   "cell_type": "markdown",
   "id": "660e517a",
   "metadata": {},
   "source": [
    "We can see that the K-means algoithm has separate the data in two categories asigning two centroids and asigning the data to the closest centroid. At the end we have the good classification and with the function cluster_centers_ we can plot the centroids too."
   ]
  },
  {
   "cell_type": "markdown",
   "id": "7565d5a7",
   "metadata": {},
   "source": [
    "(c) [graded question] Now, you are going to perform K−means with real data. The file Live 20210128.csv\n",
    "contains statistics about Facebook pages of 10 Thai fashion and cosmetics retail sellers. Each\n",
    "observation represents a post of different nature (video, photo, status or link). The features\n",
    "are variables describing each post such as the date, the number of reactions (num reactions),\n",
    "number of comments (num comments), number of likes (num likes), etc. Import the data set\n",
    "and get familiar with the data. After dropping the last 4 columns (empty)which, answer the\n",
    "following questions : how many observations are there ? How many variables are there ? You\n",
    "will denote the resulting dataframe object Live.\n"
   ]
  },
  {
   "cell_type": "code",
   "execution_count": 5,
   "id": "5e85bbb5",
   "metadata": {},
   "outputs": [
    {
     "name": "stdout",
     "output_type": "stream",
     "text": [
      "          status_type status_published  num_reactions  num_comments  \\\n",
      "status_id                                                             \n",
      "1               video   4/22/2018 6:00            529           512   \n",
      "2               photo  4/21/2018 22:45            150             0   \n",
      "3               video   4/21/2018 6:17            227           236   \n",
      "4               photo   4/21/2018 2:29            111             0   \n",
      "5               photo   4/18/2018 3:22            213             0   \n",
      "...               ...              ...            ...           ...   \n",
      "7046            photo   9/24/2016 2:58             89             0   \n",
      "7047            photo  9/23/2016 11:19             16             0   \n",
      "7048            photo  9/21/2016 23:03              2             0   \n",
      "7049            photo   9/20/2016 0:43            351            12   \n",
      "7050            photo  9/10/2016 10:30             17             0   \n",
      "\n",
      "           num_shares  num_likes  num_loves  num_wows  num_hahas  num_sads  \\\n",
      "status_id                                                                    \n",
      "1                 262        432         92         3          1         1   \n",
      "2                   0        150          0         0          0         0   \n",
      "3                  57        204         21         1          1         0   \n",
      "4                   0        111          0         0          0         0   \n",
      "5                   0        204          9         0          0         0   \n",
      "...               ...        ...        ...       ...        ...       ...   \n",
      "7046                0         89          0         0          0         0   \n",
      "7047                0         14          1         0          1         0   \n",
      "7048                0          1          1         0          0         0   \n",
      "7049               22        349          2         0          0         0   \n",
      "7050                0         17          0         0          0         0   \n",
      "\n",
      "           num_angrys  Column1  Column2  Column3  Column4  \n",
      "status_id                                                  \n",
      "1                   0      NaN      NaN      NaN      NaN  \n",
      "2                   0      NaN      NaN      NaN      NaN  \n",
      "3                   0      NaN      NaN      NaN      NaN  \n",
      "4                   0      NaN      NaN      NaN      NaN  \n",
      "5                   0      NaN      NaN      NaN      NaN  \n",
      "...               ...      ...      ...      ...      ...  \n",
      "7046                0      NaN      NaN      NaN      NaN  \n",
      "7047                0      NaN      NaN      NaN      NaN  \n",
      "7048                0      NaN      NaN      NaN      NaN  \n",
      "7049                0      NaN      NaN      NaN      NaN  \n",
      "7050                0      NaN      NaN      NaN      NaN  \n",
      "\n",
      "[7050 rows x 15 columns]\n",
      "status_type         7050\n",
      "status_published    7050\n",
      "num_reactions       7050\n",
      "num_comments        7050\n",
      "num_shares          7050\n",
      "num_likes           7050\n",
      "num_loves           7050\n",
      "num_wows            7050\n",
      "num_hahas           7050\n",
      "num_sads            7050\n",
      "num_angrys          7050\n",
      "Column1                0\n",
      "Column2                0\n",
      "Column3                0\n",
      "Column4                0\n",
      "dtype: int64\n"
     ]
    }
   ],
   "source": [
    "import pandas\n",
    "Live = pandas.read_csv( \"Live 20210128.csv\",index_col = 0)\n",
    "print(Live)\n",
    "print(Live.count())"
   ]
  },
  {
   "cell_type": "markdown",
   "id": "d20c24dc",
   "metadata": {},
   "source": [
    "The possible predictors we have in this data are the status type (video,photo...type of content), the status published (the data of publication with the hour precised), number of reactions, number of comments, number of shares, number of likes, number of loves, number of hahas, number of sads, number of angrys.\n",
    "We have 7050 observations and 15 columns of type of data but 4 without any observation.\n",
    "\n",
    "The means for comments, reactions and likes are very large, the number of loves still a big number compare to others. The shares too, and the especific reactions are in the most part less or almost equal than 1.\n",
    "\n",
    "All the minimum values are 0 and the max for the first 4 columns are between 3424 to 20990 and for the others between 31 and 657.\n",
    "The std is really big for some observations and are proportional to the min and the max values, but still being larges proportions."
   ]
  },
  {
   "cell_type": "markdown",
   "id": "3b31ab5e",
   "metadata": {},
   "source": [
    "(d) [graded question] Perform descriptive statistics with the dataset and comment the results. Do\n",
    "you think is it suitable to scale the data before performing clustering analysis ? Justify your\n",
    "answers.\n"
   ]
  },
  {
   "cell_type": "code",
   "execution_count": 6,
   "id": "b6f2dd4b",
   "metadata": {
    "scrolled": true
   },
   "outputs": [
    {
     "data": {
      "text/html": [
       "<div>\n",
       "<style scoped>\n",
       "    .dataframe tbody tr th:only-of-type {\n",
       "        vertical-align: middle;\n",
       "    }\n",
       "\n",
       "    .dataframe tbody tr th {\n",
       "        vertical-align: top;\n",
       "    }\n",
       "\n",
       "    .dataframe thead th {\n",
       "        text-align: right;\n",
       "    }\n",
       "</style>\n",
       "<table border=\"1\" class=\"dataframe\">\n",
       "  <thead>\n",
       "    <tr style=\"text-align: right;\">\n",
       "      <th></th>\n",
       "      <th>num_reactions</th>\n",
       "      <th>num_comments</th>\n",
       "      <th>num_shares</th>\n",
       "      <th>num_likes</th>\n",
       "      <th>num_loves</th>\n",
       "      <th>num_wows</th>\n",
       "      <th>num_hahas</th>\n",
       "      <th>num_sads</th>\n",
       "      <th>num_angrys</th>\n",
       "      <th>Column1</th>\n",
       "      <th>Column2</th>\n",
       "      <th>Column3</th>\n",
       "      <th>Column4</th>\n",
       "    </tr>\n",
       "  </thead>\n",
       "  <tbody>\n",
       "    <tr>\n",
       "      <th>count</th>\n",
       "      <td>7050.000000</td>\n",
       "      <td>7050.000000</td>\n",
       "      <td>7050.000000</td>\n",
       "      <td>7050.000000</td>\n",
       "      <td>7050.000000</td>\n",
       "      <td>7050.000000</td>\n",
       "      <td>7050.000000</td>\n",
       "      <td>7050.000000</td>\n",
       "      <td>7050.000000</td>\n",
       "      <td>0.0</td>\n",
       "      <td>0.0</td>\n",
       "      <td>0.0</td>\n",
       "      <td>0.0</td>\n",
       "    </tr>\n",
       "    <tr>\n",
       "      <th>mean</th>\n",
       "      <td>230.117163</td>\n",
       "      <td>224.356028</td>\n",
       "      <td>40.022553</td>\n",
       "      <td>215.043121</td>\n",
       "      <td>12.728652</td>\n",
       "      <td>1.289362</td>\n",
       "      <td>0.696454</td>\n",
       "      <td>0.243688</td>\n",
       "      <td>0.113191</td>\n",
       "      <td>NaN</td>\n",
       "      <td>NaN</td>\n",
       "      <td>NaN</td>\n",
       "      <td>NaN</td>\n",
       "    </tr>\n",
       "    <tr>\n",
       "      <th>std</th>\n",
       "      <td>462.625309</td>\n",
       "      <td>889.636820</td>\n",
       "      <td>131.599965</td>\n",
       "      <td>449.472357</td>\n",
       "      <td>39.972930</td>\n",
       "      <td>8.719650</td>\n",
       "      <td>3.957183</td>\n",
       "      <td>1.597156</td>\n",
       "      <td>0.726812</td>\n",
       "      <td>NaN</td>\n",
       "      <td>NaN</td>\n",
       "      <td>NaN</td>\n",
       "      <td>NaN</td>\n",
       "    </tr>\n",
       "    <tr>\n",
       "      <th>min</th>\n",
       "      <td>0.000000</td>\n",
       "      <td>0.000000</td>\n",
       "      <td>0.000000</td>\n",
       "      <td>0.000000</td>\n",
       "      <td>0.000000</td>\n",
       "      <td>0.000000</td>\n",
       "      <td>0.000000</td>\n",
       "      <td>0.000000</td>\n",
       "      <td>0.000000</td>\n",
       "      <td>NaN</td>\n",
       "      <td>NaN</td>\n",
       "      <td>NaN</td>\n",
       "      <td>NaN</td>\n",
       "    </tr>\n",
       "    <tr>\n",
       "      <th>25%</th>\n",
       "      <td>17.000000</td>\n",
       "      <td>0.000000</td>\n",
       "      <td>0.000000</td>\n",
       "      <td>17.000000</td>\n",
       "      <td>0.000000</td>\n",
       "      <td>0.000000</td>\n",
       "      <td>0.000000</td>\n",
       "      <td>0.000000</td>\n",
       "      <td>0.000000</td>\n",
       "      <td>NaN</td>\n",
       "      <td>NaN</td>\n",
       "      <td>NaN</td>\n",
       "      <td>NaN</td>\n",
       "    </tr>\n",
       "    <tr>\n",
       "      <th>50%</th>\n",
       "      <td>59.500000</td>\n",
       "      <td>4.000000</td>\n",
       "      <td>0.000000</td>\n",
       "      <td>58.000000</td>\n",
       "      <td>0.000000</td>\n",
       "      <td>0.000000</td>\n",
       "      <td>0.000000</td>\n",
       "      <td>0.000000</td>\n",
       "      <td>0.000000</td>\n",
       "      <td>NaN</td>\n",
       "      <td>NaN</td>\n",
       "      <td>NaN</td>\n",
       "      <td>NaN</td>\n",
       "    </tr>\n",
       "    <tr>\n",
       "      <th>75%</th>\n",
       "      <td>219.000000</td>\n",
       "      <td>23.000000</td>\n",
       "      <td>4.000000</td>\n",
       "      <td>184.750000</td>\n",
       "      <td>3.000000</td>\n",
       "      <td>0.000000</td>\n",
       "      <td>0.000000</td>\n",
       "      <td>0.000000</td>\n",
       "      <td>0.000000</td>\n",
       "      <td>NaN</td>\n",
       "      <td>NaN</td>\n",
       "      <td>NaN</td>\n",
       "      <td>NaN</td>\n",
       "    </tr>\n",
       "    <tr>\n",
       "      <th>max</th>\n",
       "      <td>4710.000000</td>\n",
       "      <td>20990.000000</td>\n",
       "      <td>3424.000000</td>\n",
       "      <td>4710.000000</td>\n",
       "      <td>657.000000</td>\n",
       "      <td>278.000000</td>\n",
       "      <td>157.000000</td>\n",
       "      <td>51.000000</td>\n",
       "      <td>31.000000</td>\n",
       "      <td>NaN</td>\n",
       "      <td>NaN</td>\n",
       "      <td>NaN</td>\n",
       "      <td>NaN</td>\n",
       "    </tr>\n",
       "  </tbody>\n",
       "</table>\n",
       "</div>"
      ],
      "text/plain": [
       "       num_reactions  num_comments   num_shares    num_likes    num_loves  \\\n",
       "count    7050.000000   7050.000000  7050.000000  7050.000000  7050.000000   \n",
       "mean      230.117163    224.356028    40.022553   215.043121    12.728652   \n",
       "std       462.625309    889.636820   131.599965   449.472357    39.972930   \n",
       "min         0.000000      0.000000     0.000000     0.000000     0.000000   \n",
       "25%        17.000000      0.000000     0.000000    17.000000     0.000000   \n",
       "50%        59.500000      4.000000     0.000000    58.000000     0.000000   \n",
       "75%       219.000000     23.000000     4.000000   184.750000     3.000000   \n",
       "max      4710.000000  20990.000000  3424.000000  4710.000000   657.000000   \n",
       "\n",
       "          num_wows    num_hahas     num_sads   num_angrys  Column1  Column2  \\\n",
       "count  7050.000000  7050.000000  7050.000000  7050.000000      0.0      0.0   \n",
       "mean      1.289362     0.696454     0.243688     0.113191      NaN      NaN   \n",
       "std       8.719650     3.957183     1.597156     0.726812      NaN      NaN   \n",
       "min       0.000000     0.000000     0.000000     0.000000      NaN      NaN   \n",
       "25%       0.000000     0.000000     0.000000     0.000000      NaN      NaN   \n",
       "50%       0.000000     0.000000     0.000000     0.000000      NaN      NaN   \n",
       "75%       0.000000     0.000000     0.000000     0.000000      NaN      NaN   \n",
       "max     278.000000   157.000000    51.000000    31.000000      NaN      NaN   \n",
       "\n",
       "       Column3  Column4  \n",
       "count      0.0      0.0  \n",
       "mean       NaN      NaN  \n",
       "std        NaN      NaN  \n",
       "min        NaN      NaN  \n",
       "25%        NaN      NaN  \n",
       "50%        NaN      NaN  \n",
       "75%        NaN      NaN  \n",
       "max        NaN      NaN  "
      ]
     },
     "execution_count": 6,
     "metadata": {},
     "output_type": "execute_result"
    }
   ],
   "source": [
    "Live.describe()"
   ]
  },
  {
   "cell_type": "markdown",
   "id": "5790e881",
   "metadata": {},
   "source": [
    "I don´t think it can be possible since the minimum values are 0 for some and like std is really big and means are really differents. The maximum number of comments (who is the biggest number int the statistics is 20990 who is not that big, and even we are going to have values as 1 or 2 so they will be very little if we scale this values."
   ]
  },
  {
   "cell_type": "markdown",
   "id": "dd2ce5d2",
   "metadata": {},
   "source": [
    "(e) [graded question] In the following you are going to perform clustering analysis using only 5\n",
    "features of the Live dataset., that is, num reactions, num comments, num shares, num likes\n",
    "and num loves prepare this dataset and scale the data. You will denote the scaled dataset\n",
    "Live_scaled. You can use the following commands :"
   ]
  },
  {
   "cell_type": "code",
   "execution_count": 7,
   "id": "9f90f568",
   "metadata": {},
   "outputs": [
    {
     "name": "stdout",
     "output_type": "stream",
     "text": [
      "           num_reactions  num_comments  num_likes  num_shares  num_loves\n",
      "status_id                                                               \n",
      "1                    529           512        432         262         92\n",
      "2                    150             0        150           0          0\n",
      "3                    227           236        204          57         21\n",
      "4                    111             0        111           0          0\n",
      "5                    213             0        204           0          9\n",
      "...                  ...           ...        ...         ...        ...\n",
      "7046                  89             0         89           0          0\n",
      "7047                  16             0         14           0          1\n",
      "7048                   2             0          1           0          1\n",
      "7049                 351            12        349          22          2\n",
      "7050                  17             0         17           0          0\n",
      "\n",
      "[7050 rows x 5 columns]\n",
      "StandardScaler()\n",
      "[230.11716312 224.35602837 215.04312057  40.02255319  12.72865248]\n"
     ]
    }
   ],
   "source": [
    "from sklearn.preprocessing import StandardScaler\n",
    "scaler=StandardScaler()\n",
    "f1 = Live[\"num_reactions\"]\n",
    "f2= Live[\"num_comments\"]\n",
    "f3=Live[\"num_likes\"]\n",
    "f4=Live[\"num_shares\"]\n",
    "f5=Live[\"num_loves\"]\n",
    "dataCluster=pandas.concat([f1,f2,f3,f4,f5],axis=1)\n",
    "print(dataCluster)\n",
    "print(scaler.fit(dataCluster))\n",
    "print(scaler.mean_)\n",
    "Live_scaled = scaler.transform(dataCluster)\n"
   ]
  },
  {
   "cell_type": "code",
   "execution_count": 8,
   "id": "bffb7028",
   "metadata": {},
   "outputs": [
    {
     "name": "stdout",
     "output_type": "stream",
     "text": [
      "7050\n",
      "[[ 0.64610394  0.32335035  0.48272661  1.6868788   1.98326643]\n",
      " [-0.17319166 -0.25220622 -0.14472021 -0.3041444  -0.3184544 ]\n",
      " [-0.00673846  0.01308938 -0.02457082  0.12901714  0.2069384 ]\n",
      " ...\n",
      " [-0.49312768 -0.25220622 -0.47624353 -0.3041444  -0.29343569]\n",
      " [ 0.26131603 -0.23871662  0.29805255 -0.13695924 -0.26841699]\n",
      " [-0.46070173 -0.25220622 -0.44064371 -0.3041444  -0.3184544 ]]\n"
     ]
    }
   ],
   "source": [
    "print(len(Live_scaled))\n",
    "print(Live_scaled)"
   ]
  },
  {
   "cell_type": "markdown",
   "id": "11c09aff",
   "metadata": {},
   "source": [
    "We can see that the function takes the mean of all the data and fit a scale for it. We can see in the new values that, for exemple, now the num of loves of the first observation that was 92 is 1.98 and the num of reactions was 529 and now is 0.64, so it seems like for the scaled values the num of reactions is low than the number of loves what is not true, but it can works because the relation between the elements still being the same for each feature."
   ]
  },
  {
   "cell_type": "markdown",
   "id": "2f2ad163",
   "metadata": {},
   "source": [
    "(f) [graded question] The purpose of this study is to get clusters of posts based on people’s reactions\n",
    "on Facebook. Perform K-means clustering with K = 4 considering. Use the following code with\n",
    "the given values of the parameters n init and randomstate.\n"
   ]
  },
  {
   "cell_type": "code",
   "execution_count": 9,
   "id": "ed8f9a0c",
   "metadata": {},
   "outputs": [
    {
     "name": "stdout",
     "output_type": "stream",
     "text": [
      "[2 0 0 ... 0 0 0]\n"
     ]
    }
   ],
   "source": [
    "from sklearn.cluster import KMeans\n",
    "Live_Kmeans4=KMeans(n_clusters=4,n_init=50,random_state =1000).fit(Live_scaled)\n",
    "Live_Kmeans4_labels=Live_Kmeans4.labels_\n",
    "\n",
    "#print(Live_Kmeans4)\n",
    "print(Live_Kmeans4_labels)"
   ]
  },
  {
   "cell_type": "code",
   "execution_count": 10,
   "id": "1bd97733",
   "metadata": {},
   "outputs": [
    {
     "data": {
      "text/html": [
       "<div>\n",
       "<style scoped>\n",
       "    .dataframe tbody tr th:only-of-type {\n",
       "        vertical-align: middle;\n",
       "    }\n",
       "\n",
       "    .dataframe tbody tr th {\n",
       "        vertical-align: top;\n",
       "    }\n",
       "\n",
       "    .dataframe thead th {\n",
       "        text-align: right;\n",
       "    }\n",
       "</style>\n",
       "<table border=\"1\" class=\"dataframe\">\n",
       "  <thead>\n",
       "    <tr style=\"text-align: right;\">\n",
       "      <th>K−means clusters</th>\n",
       "      <th>0</th>\n",
       "      <th>1</th>\n",
       "      <th>2</th>\n",
       "      <th>3</th>\n",
       "    </tr>\n",
       "    <tr>\n",
       "      <th>Real groups</th>\n",
       "      <th></th>\n",
       "      <th></th>\n",
       "      <th></th>\n",
       "      <th></th>\n",
       "    </tr>\n",
       "  </thead>\n",
       "  <tbody>\n",
       "    <tr>\n",
       "      <th>link</th>\n",
       "      <td>49</td>\n",
       "      <td>14</td>\n",
       "      <td>0</td>\n",
       "      <td>0</td>\n",
       "    </tr>\n",
       "    <tr>\n",
       "      <th>photo</th>\n",
       "      <td>4063</td>\n",
       "      <td>221</td>\n",
       "      <td>3</td>\n",
       "      <td>1</td>\n",
       "    </tr>\n",
       "    <tr>\n",
       "      <th>status</th>\n",
       "      <td>287</td>\n",
       "      <td>78</td>\n",
       "      <td>0</td>\n",
       "      <td>0</td>\n",
       "    </tr>\n",
       "    <tr>\n",
       "      <th>video</th>\n",
       "      <td>1516</td>\n",
       "      <td>77</td>\n",
       "      <td>625</td>\n",
       "      <td>116</td>\n",
       "    </tr>\n",
       "  </tbody>\n",
       "</table>\n",
       "</div>"
      ],
      "text/plain": [
       "K−means clusters     0    1    2    3\n",
       "Real groups                          \n",
       "link                49   14    0    0\n",
       "photo             4063  221    3    1\n",
       "status             287   78    0    0\n",
       "video             1516   77  625  116"
      ]
     },
     "execution_count": 10,
     "metadata": {},
     "output_type": "execute_result"
    }
   ],
   "source": [
    "pandas.crosstab(index=Live.status_type,\n",
    "    columns = Live_Kmeans4_labels,\n",
    "    rownames = [ \"Real groups\" ] ,\n",
    "    colnames = [ \"K−means clusters\" ] )\n"
   ]
  },
  {
   "cell_type": "code",
   "execution_count": 11,
   "id": "2c3de539",
   "metadata": {
    "scrolled": true
   },
   "outputs": [
    {
     "name": "stdout",
     "output_type": "stream",
     "text": [
      "7050\n",
      "precision and recall:\n",
      "0.05475177304964539\n",
      "F1-score\n",
      "0.054\n"
     ]
    },
    {
     "data": {
      "image/png": "[encoded data removed]",
      "text/plain": [
       "<Figure size 432x288 with 1 Axes>"
      ]
     },
     "metadata": {
      "needs_background": "light"
     },
     "output_type": "display_data"
    }
   ],
   "source": [
    "pandas.crosstab(Live.status_type, Live_Kmeans4_labels, normalize='index').plot.bar(stacked=True)\n",
    "print((49+14+3+1+221+4063+287+78+1516+77+625+116))\n",
    "print(\"precision and recall:\")\n",
    "print((49+221+116)/7050)\n",
    "print(\"F1-score\")\n",
    "print(2*(0.054*0.054)/(0.054+0.054))\n"
   ]
  },
  {
   "cell_type": "markdown",
   "id": "00bddcdf",
   "metadata": {},
   "source": [
    "We can see that the precision and recall are the same, since all the observations are in a cluster, but is almost 5% of precision and recall, what is not much at all. The algorithm is not performing as well, there are classifications that are not matching in the good cluster, so we can try with another K."
   ]
  },
  {
   "cell_type": "markdown",
   "id": "40d2d5da",
   "metadata": {},
   "source": [
    "(g) [graded question] Now you are going to use the elbow method to choose the optimal number of\n",
    "clusters. Run the following code to calculate the within cluster variation for number of clusters\n",
    "ranging from 1 to 15. Make a plot and choose the best number of clusters. Justify your answer."
   ]
  },
  {
   "cell_type": "code",
   "execution_count": 12,
   "id": "79b69636",
   "metadata": {},
   "outputs": [
    {
     "name": "stdout",
     "output_type": "stream",
     "text": [
      "[0 0 0 ... 0 0 0]\n",
      "[0 0 0 ... 0 0 0]\n",
      "[1 1 1 ... 1 1 1]\n",
      "[0 0 0 ... 0 0 0]\n",
      "[0 0 0 ... 0 0 0]\n",
      "[1 1 1 ... 1 1 1]\n",
      "[0 0 0 ... 0 0 0]\n",
      "[3 0 0 ... 0 0 0]\n",
      "[0 4 0 ... 4 0 4]\n",
      "[9 0 6 ... 0 6 0]\n",
      "[8 0 7 ... 0 7 0]\n",
      "[8 0 5 ... 0 5 0]\n",
      "[5 0 5 ... 0 9 0]\n",
      "[0 3 3 ... 8 3 8]\n",
      "[8645017895.809654, 4985737810.292088, 2734643659.690309, 2000353100.6684291, 1469304661.9018958, 1186304640.1103272, 922780784.3561394, 749468879.4863222, 620936364.9445505, 522733280.1430479, 449720769.02283627, 378533789.540377, 328842257.2426571, 295910057.29857004]\n"
     ]
    },
    {
     "data": {
      "image/png": "[encoded data removed]",
      "text/plain": [
       "<Figure size 432x288 with 1 Axes>"
      ]
     },
     "metadata": {
      "needs_background": "light"
     },
     "output_type": "display_data"
    }
   ],
   "source": [
    "distortions= []\n",
    "K=range( 1,15)\n",
    "for k in K:\n",
    "    kmeanModel = KMeans(n_clusters=k ,n_init=50, random_state =1000)\n",
    "    a = kmeanModel.fit(dataCluster)\n",
    "    print(a.labels_)\n",
    "    distortions.append(kmeanModel.inertia_)\n",
    "    \n",
    "print(distortions)\n",
    "plt.plot(K,distortions, \"-\")\n",
    "plt.plot(K,distortions, \"o\")\n",
    "\n",
    "plt.show()\n"
   ]
  },
  {
   "cell_type": "code",
   "execution_count": 13,
   "id": "7c1f0a69",
   "metadata": {},
   "outputs": [
    {
     "name": "stdout",
     "output_type": "stream",
     "text": [
      "\u001b[33mWARNING: Ignoring invalid distribution -ysql-connector-repackaged (/Users/matiasmendez/opt/anaconda3/lib/python3.7/site-packages)\u001b[0m\n",
      "\u001b[33mWARNING: Ignoring invalid distribution -ysql-connector-repackaged (/Users/matiasmendez/opt/anaconda3/lib/python3.7/site-packages)\u001b[0m\n",
      "Requirement already satisfied: yellowbrick in /Users/matiasmendez/opt/anaconda3/lib/python3.7/site-packages (1.5)\n",
      "Requirement already satisfied: scikit-learn>=1.0.0 in /Users/matiasmendez/opt/anaconda3/lib/python3.7/site-packages (from yellowbrick) (1.0.2)\n",
      "Requirement already satisfied: numpy>=1.16.0 in /Users/matiasmendez/opt/anaconda3/lib/python3.7/site-packages (from yellowbrick) (1.18.1)\n",
      "Requirement already satisfied: scipy>=1.0.0 in /Users/matiasmendez/opt/anaconda3/lib/python3.7/site-packages (from yellowbrick) (1.4.1)\n",
      "Requirement already satisfied: matplotlib!=3.0.0,>=2.0.2 in /Users/matiasmendez/opt/anaconda3/lib/python3.7/site-packages (from yellowbrick) (3.1.3)\n",
      "Requirement already satisfied: cycler>=0.10.0 in /Users/matiasmendez/opt/anaconda3/lib/python3.7/site-packages (from yellowbrick) (0.10.0)\n",
      "Requirement already satisfied: six in /Users/matiasmendez/opt/anaconda3/lib/python3.7/site-packages (from cycler>=0.10.0->yellowbrick) (1.14.0)\n",
      "Requirement already satisfied: kiwisolver>=1.0.1 in /Users/matiasmendez/opt/anaconda3/lib/python3.7/site-packages (from matplotlib!=3.0.0,>=2.0.2->yellowbrick) (1.1.0)\n",
      "Requirement already satisfied: pyparsing!=2.0.4,!=2.1.2,!=2.1.6,>=2.0.1 in /Users/matiasmendez/opt/anaconda3/lib/python3.7/site-packages (from matplotlib!=3.0.0,>=2.0.2->yellowbrick) (2.4.6)\n",
      "Requirement already satisfied: python-dateutil>=2.1 in /Users/matiasmendez/opt/anaconda3/lib/python3.7/site-packages (from matplotlib!=3.0.0,>=2.0.2->yellowbrick) (2.8.1)\n",
      "Requirement already satisfied: joblib>=0.11 in /Users/matiasmendez/opt/anaconda3/lib/python3.7/site-packages (from scikit-learn>=1.0.0->yellowbrick) (0.14.1)\n",
      "Requirement already satisfied: threadpoolctl>=2.0.0 in /Users/matiasmendez/opt/anaconda3/lib/python3.7/site-packages (from scikit-learn>=1.0.0->yellowbrick) (3.1.0)\n",
      "Requirement already satisfied: setuptools in /Users/matiasmendez/opt/anaconda3/lib/python3.7/site-packages (from kiwisolver>=1.0.1->matplotlib!=3.0.0,>=2.0.2->yellowbrick) (46.0.0.post20200309)\n",
      "\u001b[33mWARNING: Ignoring invalid distribution -ysql-connector-repackaged (/Users/matiasmendez/opt/anaconda3/lib/python3.7/site-packages)\u001b[0m\n",
      "\u001b[33mWARNING: Ignoring invalid distribution -ysql-connector-repackaged (/Users/matiasmendez/opt/anaconda3/lib/python3.7/site-packages)\u001b[0m\n",
      "\u001b[33mWARNING: Ignoring invalid distribution -ysql-connector-repackaged (/Users/matiasmendez/opt/anaconda3/lib/python3.7/site-packages)\u001b[0m\n",
      "\u001b[33mWARNING: Ignoring invalid distribution -ysql-connector-repackaged (/Users/matiasmendez/opt/anaconda3/lib/python3.7/site-packages)\u001b[0m\n",
      "\u001b[33mWARNING: You are using pip version 21.3.1; however, version 22.3 is available.\n",
      "You should consider upgrading via the '/Users/matiasmendez/opt/anaconda3/bin/python -m pip install --upgrade pip' command.\u001b[0m\n"
     ]
    }
   ],
   "source": [
    "!pip install yellowbrick"
   ]
  },
  {
   "cell_type": "code",
   "execution_count": 14,
   "id": "da88270e",
   "metadata": {},
   "outputs": [
    {
     "data": {
      "image/png": "[encoded data removed]",
      "text/plain": [
       "<Figure size 576x396 with 2 Axes>"
      ]
     },
     "metadata": {},
     "output_type": "display_data"
    },
    {
     "data": {
      "text/plain": [
       "<matplotlib.axes._subplots.AxesSubplot at 0x7fb4207e8c90>"
      ]
     },
     "execution_count": 14,
     "metadata": {},
     "output_type": "execute_result"
    }
   ],
   "source": [
    "from sklearn.cluster import KMeans\n",
    "from sklearn.datasets import make_blobs\n",
    "\n",
    "from yellowbrick.cluster import KElbowVisualizer\n",
    "\n",
    "\n",
    "# Instantiate the clustering model and visualizer\n",
    "model = KMeans()\n",
    "visualizer = KElbowVisualizer(model, k=(1,15))\n",
    "\n",
    "visualizer.fit(Live_scaled)        # Fit the data to the visualizer\n",
    "visualizer.show()        # Finalize and render the figure"
   ]
  },
  {
   "cell_type": "markdown",
   "id": "3e826826",
   "metadata": {},
   "source": [
    "The best number of clusters is 4 because is the inflection point in the graphic and we know that in Elbow method The WCV is a measure of compactness of the cluster. Also, we can observe that after the k=4 the rest of the greater values for K have a very similar behavior to K=4, so it could be infered that K=4 is the appropriate number of clusters to have a clear distinct behavior among the groups of data, without the need of having a greater K value than 4 (because is better for the business to have the least amount of groups possible as long as there is a clear distinction among the data groups ).\n"
   ]
  },
  {
   "cell_type": "markdown",
   "id": "f92bb3dd",
   "metadata": {},
   "source": [
    "(h) [graded question] Perform K-meand with the chosen value of K in the previous question,\n",
    "calculate the matching matrix and interpret the results."
   ]
  },
  {
   "cell_type": "code",
   "execution_count": 15,
   "id": "f3cf5e30",
   "metadata": {},
   "outputs": [
    {
     "name": "stdout",
     "output_type": "stream",
     "text": [
      "[0 0 0 ... 0 0 0]\n",
      "K−means clusters     0    1    2\n",
      "Real groups                     \n",
      "link                49    0   14\n",
      "photo             4075    2  211\n",
      "status             295    0   70\n",
      "video             1916  342   76\n",
      "K−means clusters  link  photo  status  video\n",
      "Real groups                                 \n",
      "0                   49   4075     295   1916\n",
      "1                    0      2       0    342\n",
      "2                   14    211      70     76\n",
      "0\n",
      "precision:\n",
      "0.017163120567375886\n",
      "recall:\n",
      "0.06567375886524823\n"
     ]
    }
   ],
   "source": [
    "kmeanModel_3c = KMeans(n_clusters=3 ,n_init=50, random_state =1000)\n",
    "ic_result = kmeanModel_3c.fit(Live_scaled)\n",
    "print(ic_result.labels_)\n",
    "    \n",
    "print(pandas.crosstab(index=Live.status_type,\n",
    "    columns = ic_result.labels_,\n",
    "    rownames = [ \"Real groups\" ] ,\n",
    "    colnames = [ \"K−means clusters\" ] ) )\n",
    "\n",
    "    \n",
    "print(pandas.crosstab(index=ic_result.labels_,\n",
    "    columns = Live.status_type,\n",
    "    rownames = [ \"Real groups\" ] ,\n",
    "    colnames = [ \"K−means clusters\" ] ) )\n",
    "\n",
    "print(7050-(49+14+4075+2+211+295+70+76+342+1916))\n",
    "print(\"precision:\")\n",
    "print((49+2+70)/7050)\n",
    "print(\"recall:\")\n",
    "print((49+2+70+342)/7050)\n",
    "\n"
   ]
  },
  {
   "cell_type": "markdown",
   "id": "268801a7",
   "metadata": {},
   "source": [
    "Here, we have tried with 3 to see if it could improve something about the precision and recall and in fact, we improve the recall for a little, but the precision is totally worst, so the k = 4 really works better, but works very bad anyways."
   ]
  },
  {
   "cell_type": "markdown",
   "id": "76e36aeb",
   "metadata": {},
   "source": [
    "2.2 Hierarchical clustering\n"
   ]
  },
  {
   "cell_type": "code",
   "execution_count": 16,
   "id": "513b19f4",
   "metadata": {},
   "outputs": [],
   "source": [
    "from scipy.cluster.hierarchy import linkage\n",
    "hc_complete=linkage(X, \"complete\")"
   ]
  },
  {
   "cell_type": "code",
   "execution_count": 17,
   "id": "4b510a6d",
   "metadata": {},
   "outputs": [
    {
     "data": {
      "image/png": "[encoded data removed]",
      "text/plain": [
       "<Figure size 1800x720 with 1 Axes>"
      ]
     },
     "metadata": {},
     "output_type": "display_data"
    }
   ],
   "source": [
    "from scipy.cluster.hierarchy import dendrogram\n",
    "import matplotlib.pyplot as plt\n",
    "plt.figure(figsize =(25,10))\n",
    "dendrogram(hc_complete)\n",
    "plt.show()"
   ]
  },
  {
   "cell_type": "code",
   "execution_count": 18,
   "id": "9ed37e18",
   "metadata": {},
   "outputs": [
    {
     "name": "stdout",
     "output_type": "stream",
     "text": [
      "[[0 0 0 0 0 0 0 0 0 0 0 0 0 0 0 0 0 0 0 0 0 0 0 0 1 1 1 1 1 1 1 1 1 1 1 1\n",
      "  1 1 1 1 1 1 1 1 1 1 1 1 1 1]]\n"
     ]
    }
   ],
   "source": [
    "from scipy.cluster.hierarchy import cut_tree\n",
    "print(cut_tree(hc_complete,n_clusters=2).T)"
   ]
  },
  {
   "cell_type": "markdown",
   "id": "6da4fcc9",
   "metadata": {},
   "source": [
    "(a) [graded question] Perform hierarchical clustering using the Live_scaled data using complete\n",
    "linkage. To begin you will cut the dendrogram at 4 clusters. Similarly to the previous section,\n",
    "calculate the matching matrix and comment the results.\n"
   ]
  },
  {
   "cell_type": "code",
   "execution_count": 19,
   "id": "393cbcaa",
   "metadata": {
    "scrolled": true
   },
   "outputs": [
    {
     "name": "stdout",
     "output_type": "stream",
     "text": [
      "[[0 0 0 ... 0 0 0]]\n",
      "[[2.30000000e+01 1.71100000e+03 0.00000000e+00 2.00000000e+00]\n",
      " [4.14000000e+02 1.02300000e+03 0.00000000e+00 2.00000000e+00]\n",
      " [6.17700000e+03 6.22800000e+03 0.00000000e+00 2.00000000e+00]\n",
      " ...\n",
      " [1.40930000e+04 1.40950000e+04 2.30843652e+01 7.04600000e+03]\n",
      " [1.40810000e+04 1.40960000e+04 2.81291435e+01 7.04900000e+03]\n",
      " [4.54300000e+03 1.40970000e+04 3.38221014e+01 7.05000000e+03]]\n",
      "Hierarchy clusters     0  1   2  3\n",
      "Real groups                       \n",
      "link                  63  0   0  0\n",
      "photo               4288  0   0  0\n",
      "status               365  0   0  0\n",
      "video               2264  3  66  1\n"
     ]
    },
    {
     "data": {
      "image/png": "[encoded data removed]",
      "text/plain": [
       "<Figure size 576x396 with 1 Axes>"
      ]
     },
     "metadata": {},
     "output_type": "display_data"
    }
   ],
   "source": [
    "hc_complete_live=linkage(Live_scaled, \"complete\")\n",
    "print(cut_tree(hc_complete_live,n_clusters=4).T )\n",
    "print(hc_complete_live)\n",
    "print(pandas.crosstab(index=Live.status_type,\n",
    "    columns = cut_tree(hc_complete_live,n_clusters=4).T[0] ,\n",
    "    rownames = [ \"Real groups\" ] ,\n",
    "    colnames = [ \"Hierarchy clusters\" ] ))\n",
    "dendrogram(hc_complete_live)\n",
    "plt.show()"
   ]
  },
  {
   "cell_type": "markdown",
   "id": "ec736653",
   "metadata": {},
   "source": [
    "(b) [graded question] Now you will plot the dendrogram using the parameter truncate_mode =\n",
    "’lastp’ and p=15. According to the dendrogram at which level (number of clusters) is suitable\n",
    "to cut the dendrogram ? Why ?\n"
   ]
  },
  {
   "cell_type": "code",
   "execution_count": 20,
   "id": "6a29700c",
   "metadata": {},
   "outputs": [
    {
     "data": {
      "text/plain": [
       "{'icoord': [[25.0, 25.0, 35.0, 35.0],\n",
       "  [55.0, 55.0, 65.0, 65.0],\n",
       "  [45.0, 45.0, 60.0, 60.0],\n",
       "  [30.0, 30.0, 52.5, 52.5],\n",
       "  [85.0, 85.0, 95.0, 95.0],\n",
       "  [75.0, 75.0, 90.0, 90.0],\n",
       "  [115.0, 115.0, 125.0, 125.0],\n",
       "  [135.0, 135.0, 145.0, 145.0],\n",
       "  [120.0, 120.0, 140.0, 140.0],\n",
       "  [105.0, 105.0, 130.0, 130.0],\n",
       "  [82.5, 82.5, 117.5, 117.5],\n",
       "  [41.25, 41.25, 100.0, 100.0],\n",
       "  [15.0, 15.0, 70.625, 70.625],\n",
       "  [5.0, 5.0, 42.8125, 42.8125]],\n",
       " 'dcoord': [[0.0, 12.019600428232053, 12.019600428232053, 0.0],\n",
       "  [0.0, 9.143481821271312, 9.143481821271312, 0.0],\n",
       "  [0.0, 13.063404793640688, 13.063404793640688, 9.143481821271312],\n",
       "  [12.019600428232053,\n",
       "   15.688028043044397,\n",
       "   15.688028043044397,\n",
       "   13.063404793640688],\n",
       "  [0.0, 8.15275470136014, 8.15275470136014, 0.0],\n",
       "  [0.0, 11.1133080195882, 11.1133080195882, 8.15275470136014],\n",
       "  [0.0, 8.609886412797923, 8.609886412797923, 0.0],\n",
       "  [0.0, 9.646234912864417, 9.646234912864417, 0.0],\n",
       "  [8.609886412797923,\n",
       "   11.207589113100708,\n",
       "   11.207589113100708,\n",
       "   9.646234912864417],\n",
       "  [0.0, 15.84859641535774, 15.84859641535774, 11.207589113100708],\n",
       "  [11.1133080195882,\n",
       "   19.834106923273403,\n",
       "   19.834106923273403,\n",
       "   15.84859641535774],\n",
       "  [15.688028043044397,\n",
       "   23.084365238132012,\n",
       "   23.084365238132012,\n",
       "   19.834106923273403],\n",
       "  [0.0, 28.129143535783257, 28.129143535783257, 23.084365238132012],\n",
       "  [0.0, 33.822101414635675, 33.822101414635675, 28.129143535783257]],\n",
       " 'ivl': ['4543',\n",
       "  '(3)',\n",
       "  '4660',\n",
       "  '(2)',\n",
       "  '(48)',\n",
       "  '(12)',\n",
       "  '(3)',\n",
       "  '(8)',\n",
       "  '(12)',\n",
       "  '(68)',\n",
       "  '(21)',\n",
       "  '726',\n",
       "  '(39)',\n",
       "  '(313)',\n",
       "  '(6518)'],\n",
       " 'leaves': [4543,\n",
       "  14081,\n",
       "  4660,\n",
       "  14076,\n",
       "  14082,\n",
       "  14073,\n",
       "  14074,\n",
       "  14084,\n",
       "  14067,\n",
       "  14080,\n",
       "  14078,\n",
       "  726,\n",
       "  14079,\n",
       "  14070,\n",
       "  14083],\n",
       " 'color_list': ['g',\n",
       "  'g',\n",
       "  'g',\n",
       "  'g',\n",
       "  'g',\n",
       "  'g',\n",
       "  'g',\n",
       "  'g',\n",
       "  'g',\n",
       "  'g',\n",
       "  'g',\n",
       "  'g',\n",
       "  'b',\n",
       "  'b']}"
      ]
     },
     "execution_count": 20,
     "metadata": {},
     "output_type": "execute_result"
    },
    {
     "data": {
      "image/png": "[encoded data removed]",
      "text/plain": [
       "<Figure size 576x396 with 1 Axes>"
      ]
     },
     "metadata": {},
     "output_type": "display_data"
    }
   ],
   "source": [
    "dendrogram(hc_complete_live,  truncate_mode=\"lastp\", p=15)\n",
    "  "
   ]
  },
  {
   "cell_type": "markdown",
   "id": "3553be11",
   "metadata": {},
   "source": [
    "I think the better decision is tu cut the denogram when there are 3 clusters because after this 3 top clusters, the little clusters inside the green one cluster are not functional because at the end the first green leave has 4660 data inside and the others just a little part of the data."
   ]
  },
  {
   "cell_type": "markdown",
   "id": "e54dbf45",
   "metadata": {},
   "source": [
    "(c) [graded question] Perform clustering evaluation by calculating the Silhouette coefficient and\n",
    "Davies-Bouldin index for K-means clustering and Hierarchical clustering for K = 6. Use the\n",
    "functions silhouette_score and davies_bouldin_score from the metrics library. Compare\n",
    "and conclude."
   ]
  },
  {
   "cell_type": "code",
   "execution_count": 31,
   "id": "fe42501a",
   "metadata": {},
   "outputs": [
    {
     "name": "stdout",
     "output_type": "stream",
     "text": [
      "Silhoutte  0.817586369396667\n",
      "davies_bouldin_score  0.616874579254357\n"
     ]
    }
   ],
   "source": [
    "from yellowbrick.cluster import SilhouetteVisualizer\n",
    "from yellowbrick.datasets import load_nfl\n",
    "from sklearn.metrics import silhouette_score, davies_bouldin_score\n",
    "\n",
    "\n",
    "model1 = KMeans(n_clusters=4)\n",
    "preds = model1.fit_predict(dataCluster)\n",
    "centers = model1.cluster_centers_\n",
    "#visualizer1 = SilhouetteVisualizer(model1, colors='yellowbrick')\n",
    "\n",
    "#visualizer1.fit(Live_scaled)        # Fit the data to the visualizer\n",
    "#visualizer1.show()        # Finalize and render the figure\n",
    "print( \"Silhoutte \",silhouette_score(dataCluster, preds))\n",
    "print( \"davies_bouldin_score \",davies_bouldin_score(dataCluster, preds))\n"
   ]
  },
  {
   "cell_type": "code",
   "execution_count": 27,
   "id": "d77429da",
   "metadata": {},
   "outputs": [
    {
     "name": "stderr",
     "output_type": "stream",
     "text": [
      "/Users/matiasmendez/opt/anaconda3/lib/python3.7/site-packages/sklearn/utils/validation.py:993: DataConversionWarning: A column-vector y was passed when a 1d array was expected. Please change the shape of y to (n_samples, ), for example using ravel().\n",
      "  y = column_or_1d(y, warn=True)\n"
     ]
    },
    {
     "name": "stdout",
     "output_type": "stream",
     "text": [
      "Silhoutte score  0.7953265971016983\n",
      "davies_bouldin_score score  0.7334024387109407\n"
     ]
    },
    {
     "name": "stderr",
     "output_type": "stream",
     "text": [
      "/Users/matiasmendez/opt/anaconda3/lib/python3.7/site-packages/sklearn/utils/validation.py:993: DataConversionWarning: A column-vector y was passed when a 1d array was expected. Please change the shape of y to (n_samples, ), for example using ravel().\n",
      "  y = column_or_1d(y, warn=True)\n"
     ]
    }
   ],
   "source": [
    "\n",
    "from sklearn.metrics import silhouette_score, davies_bouldin_score\n",
    "#score = silhouette_score(df, preds)\n",
    "\n",
    "\n",
    "model2 = linkage(Live_scaled,\"complete\")\n",
    "model2_cut = cut_tree(model2,n_clusters=6)\n",
    "score_sil = silhouette_score(dataCluster, model2_cut)\n",
    "score_davis = davies_bouldin_score(dataCluster, model2_cut)\n",
    "\n",
    "#visualizer2 = SilhouetteVisualizer(model2_cut, colors='yellowbrick')\n",
    "\n",
    "#visualizer1.fit(Live_scaled)        # Fit the data to the visualizer\n",
    "#visualizer2.show()        # Finalize and render the figure\n",
    "print(\"Silhoutte score \",score_sil)\n",
    "print(\"davies_bouldin_score score \",score_davis)"
   ]
  }
 ],
 "metadata": {
  "kernelspec": {
   "display_name": "Python 3.7.6 ('base')",
   "language": "python",
   "name": "python3"
  },
  "language_info": {
   "codemirror_mode": {
    "name": "ipython",
    "version": 3
   },
   "file_extension": ".py",
   "mimetype": "text/x-python",
   "name": "python",
   "nbconvert_exporter": "python",
   "pygments_lexer": "ipython3",
   "version": "3.7.6"
  },
  "vscode": {
   "interpreter": {
    "hash": "fb43441a61ca617217a165e87933dbbd63a2349b85217941cdceeb4146149071"
   }
  }
 },
 "nbformat": 4,
 "nbformat_minor": 5
}
