{
 "cells": [
  {
   "cell_type": "code",
   "execution_count": 11,
   "id": "bf98fb81",
   "metadata": {},
   "outputs": [
    {
     "data": {
      "text/plain": [
       "[<matplotlib.lines.Line2D at 0x7f84111363d0>]"
      ]
     },
     "execution_count": 11,
     "metadata": {},
     "output_type": "execute_result"
    },
    {
     "data": {
      "image/png": "[encoded data removed]",
      "text/plain": [
       "<Figure size 432x288 with 1 Axes>"
      ]
     },
     "metadata": {
      "needs_background": "light"
     },
     "output_type": "display_data"
    }
   ],
   "source": [
    "import matplotlib.pyplot as plt\n",
    "import numpy as np\n",
    "import pandas\n",
    "x = range ( 1,100000 )\n",
    "p =(1 - (1-np.divide( 1,x))**x)\n",
    "plt.ylim ( 0 , 1 )\n",
    "plt.plot(x,p, \".\",color=\"black\")\n"
   ]
  },
  {
   "cell_type": "markdown",
   "id": "190e5218",
   "metadata": {},
   "source": [
    "Ariana Ayaviri , TP 2\n",
    "Matias Ricardo Mendez"
   ]
  },
  {
   "cell_type": "markdown",
   "id": "76754960",
   "metadata": {},
   "source": [
    "Not gradded part."
   ]
  },
  {
   "cell_type": "code",
   "execution_count": 12,
   "id": "992a289f",
   "metadata": {},
   "outputs": [
    {
     "name": "stdout",
     "output_type": "stream",
     "text": [
      "0.6314\n"
     ]
    }
   ],
   "source": [
    "from random import choices\n",
    "B=10000\n",
    "sum4=0\n",
    "for b in range ( 1 ,B+1):\n",
    "    bsample=np.random.choice(range ( 1 , 101 ) , 100 )\n",
    "    if np.count_nonzero( bsample==4)>0:\n",
    "        sum4+=1\n",
    "sum4/=B\n",
    "print ( sum4 )"
   ]
  },
  {
   "cell_type": "code",
   "execution_count": 13,
   "id": "e31aa061",
   "metadata": {},
   "outputs": [
    {
     "data": {
      "text/plain": [
       "[<matplotlib.lines.Line2D at 0x7f8413000590>]"
      ]
     },
     "execution_count": 13,
     "metadata": {},
     "output_type": "execute_result"
    },
    {
     "data": {
      "image/png": "[encoded data removed]",
      "text/plain": [
       "<Figure size 432x288 with 1 Axes>"
      ]
     },
     "metadata": {
      "needs_background": "light"
     },
     "output_type": "display_data"
    }
   ],
   "source": [
    "x1_r = [3,2,4,1]\n",
    "x2_r = [4,2,4,4]\n",
    "\n",
    "x1_b = [2,4,4]\n",
    "x2_b = [1,3,1]\n",
    "\n",
    "#x2 menor a cutro azul\n",
    "#mayor si x1\n",
    "plt.plot(x1_r,x2_r, \".\",color=\"red\")\n",
    "plt.plot(x1_b,x2_b, \".\",color=\"blue\")"
   ]
  },
  {
   "cell_type": "markdown",
   "id": "ae54897e",
   "metadata": {},
   "source": []
  },
  {
   "cell_type": "markdown",
   "id": "abb88cb3",
   "metadata": {},
   "source": [
    "β0 + β1X1 + β2X2 = 0\n",
    "b0 + 2 x1 + 1 x2 = 0\n",
    "1.5 + 2 x1 = 1 x2"
   ]
  },
  {
   "cell_type": "markdown",
   "id": "feefee54",
   "metadata": {},
   "source": [
    "Graded Part"
   ]
  },
  {
   "cell_type": "code",
   "execution_count": 14,
   "id": "db566de4",
   "metadata": {},
   "outputs": [],
   "source": [
    "auto = pandas.read_csv(\"auto.txt\", \";\")"
   ]
  },
  {
   "cell_type": "markdown",
   "id": "9642e13a",
   "metadata": {},
   "source": [
    "[graded question] First of all, use the Pandas library to read the file auto.txt to an object called auto. Use the command auto.mpg.describe() to calculate descriptive statistics for mpg. Comment on the results in terms of mean, standard deviation, quartiles, etc."
   ]
  },
  {
   "cell_type": "code",
   "execution_count": 15,
   "id": "2c48271e",
   "metadata": {},
   "outputs": [
    {
     "data": {
      "text/plain": [
       "count    300.000000\n",
       "mean      23.699333\n",
       "std        7.963814\n",
       "min        9.000000\n",
       "25%       17.000000\n",
       "50%       23.600000\n",
       "75%       29.925000\n",
       "max       46.600000\n",
       "Name: mpg, dtype: float64"
      ]
     },
     "execution_count": 15,
     "metadata": {},
     "output_type": "execute_result"
    }
   ],
   "source": [
    "auto[\"mpg\"].describe()\n",
    "#print(auto)"
   ]
  },
  {
   "cell_type": "markdown",
   "id": "59d74c7f",
   "metadata": {},
   "source": [
    "--- ANSWER --- = The median value of the miles per gallon is 23.7. After also taking a look at the description of the data set, it could be observed that the values move from 9.0 as a minimum to 46.0 mpg as a maximum, with a standard deviation of 7.9 which is explains how similar or far is the behavior of column from the median."
   ]
  },
  {
   "cell_type": "code",
   "execution_count": 16,
   "id": "00032655",
   "metadata": {},
   "outputs": [
    {
     "name": "stdout",
     "output_type": "stream",
     "text": [
      "     mpg01\n",
      "134      0\n",
      "145      0\n",
      "63       1\n",
      "293      1\n",
      "285      1\n",
      "..     ...\n",
      "251      1\n",
      "192      0\n",
      "117      0\n",
      "47       0\n",
      "172      0\n",
      "\n",
      "[240 rows x 1 columns]\n",
      "     cylinders  displacement  horsepower  weight\n",
      "134          4         115.0          95    2694\n",
      "145          6         250.0         105    3353\n",
      "63           4          97.0          92    2288\n",
      "293          4          91.0          67    1965\n",
      "285          4         151.0          90    2735\n",
      "..         ...           ...         ...     ...\n",
      "251          4          91.0          67    1850\n",
      "192          8         260.0         110    3365\n",
      "117          6         250.0          72    3432\n",
      "47           8         400.0         175    4385\n",
      "172          6         231.0         105    3425\n",
      "\n",
      "[240 rows x 4 columns]\n",
      "     cylinders  displacement  horsepower  weight\n",
      "208          4         119.0          97    2405\n",
      "188          4          98.0          66    1800\n",
      "12           6         200.0          85    2587\n",
      "221          8         302.0         129    3725\n",
      "239          6         225.0          90    3381\n",
      "136          4         121.0          98    2945\n",
      "230          4         105.0          70    2150\n",
      "206          4         134.0          95    2515\n",
      "52           8         350.0         155    4502\n",
      "108          4          79.0          67    1963\n",
      "290          4          98.0          70    2125\n",
      "15           4         110.0          87    2672\n",
      "184          4          98.0          83    2075\n",
      "248          4          90.0          48    2085\n",
      "22           8         304.0         193    4732\n",
      "74           8         360.0         175    3821\n",
      "270          4          98.0          65    2380\n",
      "90           4          68.0          49    1867\n",
      "229          4         105.0          70    2200\n",
      "164          8         318.0         150    3755\n",
      "190          4          85.0          70    2070\n",
      "103          8         350.0         150    4699\n",
      "124          6         231.0         110    3039\n",
      "129          6         232.0         100    2914\n",
      "222          8         351.0         138    3955\n",
      "116          6         250.0         105    3459\n",
      "194          4         140.0          88    2720\n",
      "286          4         140.0          92    2865\n",
      "234          4         151.0          90    2556\n",
      "295          6         262.0          85    3015\n",
      "92           4         114.0          91    2582\n",
      "66           4          97.0          88    2100\n",
      "8            8         340.0         160    3609\n",
      "122          6         231.0         110    3907\n",
      "219          6         225.0         110    3360\n",
      "150          4          91.0          53    1795\n",
      "176          8         350.0         170    4165\n",
      "182          4         140.0          89    2755\n",
      "299          4         135.0          84    2295\n",
      "5            8         454.0         220    4354\n",
      "223          8         351.0         142    4054\n",
      "89           8         400.0         230    4278\n",
      "81           8         400.0         150    4997\n",
      "34           6         250.0          88    3139\n",
      "55           3          70.0          97    2330\n",
      "139          4         140.0          92    2572\n",
      "236          4          89.0          60    1968\n",
      "64           4         120.0          97    2506\n",
      "7            8         383.0         170    3563\n",
      "45           4         140.0          90    2408\n",
      "73           8         440.0         215    4735\n",
      "213          4          89.0          71    1990\n",
      "173          6         225.0         100    3630\n",
      "106          8         304.0         150    4257\n",
      "59           8         318.0         150    4077\n",
      "253          6         168.0         132    2910\n",
      "168          4         122.0          96    2300\n",
      "26           6         232.0         100    2634\n",
      "284          4         135.0          84    2525\n",
      "153          6         250.0         110    3645\n"
     ]
    }
   ],
   "source": [
    "import pandas\n",
    "x_test = pandas.read_csv( \"x_test.csv\",index_col = 0)\n",
    "x_train = pandas.read_csv( \"x_train.csv\", index_col = 0)\n",
    "y_test_reg = pandas.read_csv( \"y_test.csv\", index_col = 0)\n",
    "y_train_reg = pandas.read_csv( \"y_train.csv\", index_col = 0)\n",
    "\n",
    "print(y_train_reg)\n",
    "#print(y_test_reg)\n",
    "print(x_train)\n",
    "print(x_test)"
   ]
  },
  {
   "cell_type": "markdown",
   "id": "ce6204de",
   "metadata": {},
   "source": [
    "2.1 Regression Trees"
   ]
  },
  {
   "cell_type": "code",
   "execution_count": 17,
   "id": "d498e15b",
   "metadata": {},
   "outputs": [
    {
     "data": {
      "text/plain": [
       "DecisionTreeRegressor(ccp_alpha=0.0, criterion='mse', max_depth=2,\n",
       "                      max_features=None, max_leaf_nodes=None,\n",
       "                      min_impurity_decrease=0.0, min_impurity_split=None,\n",
       "                      min_samples_leaf=1, min_samples_split=2,\n",
       "                      min_weight_fraction_leaf=0.0, presort='deprecated',\n",
       "                      random_state=None, splitter='best')"
      ]
     },
     "execution_count": 17,
     "metadata": {},
     "output_type": "execute_result"
    }
   ],
   "source": [
    "from sklearn import tree\n",
    "regr_tree_auto = tree.DecisionTreeRegressor(max_depth = 2 )\n",
    "regr_tree_auto.fit(x_train , y_train_reg )\n"
   ]
  },
  {
   "cell_type": "code",
   "execution_count": 18,
   "id": "0ecc2edd",
   "metadata": {},
   "outputs": [
    {
     "name": "stdout",
     "output_type": "stream",
     "text": [
      "DecisionTreeRegressor(ccp_alpha=0.0, criterion='mse', max_depth=2,\n",
      "                      max_features=None, max_leaf_nodes=None,\n",
      "                      min_impurity_decrease=0.0, min_impurity_split=None,\n",
      "                      min_samples_leaf=1, min_samples_split=2,\n",
      "                      min_weight_fraction_leaf=0.0, presort='deprecated',\n",
      "                      random_state=None, splitter='best')\n",
      "0.07144451966128669\n"
     ]
    },
    {
     "data": {
      "image/png": "[encoded data removed]",
      "text/plain": [
       "<Figure size 864x864 with 1 Axes>"
      ]
     },
     "metadata": {
      "needs_background": "light"
     },
     "output_type": "display_data"
    }
   ],
   "source": [
    "import matplotlib.pyplot as plt\n",
    "from sklearn.metrics import mean_squared_error \n",
    "plt.figure( figsize=(12,12))\n",
    "tree.plot_tree(regr_tree_auto,feature_names=x_train.columns )\n",
    "\n",
    "print(regr_tree_auto)\n",
    "x_train.describe()\n",
    "\n",
    "print(mean_squared_error(y_train_reg , regr_tree_auto.predict(x_train)))\n"
   ]
  },
  {
   "cell_type": "markdown",
   "id": "77784f99",
   "metadata": {},
   "source": [
    "(a) Each node of the plotted tree contains information concerning the mean squared error\n",
    "(MSE), the number of samples, etc. Interpret this information for the topmost node in the\n",
    "tree.\n",
    "\n",
    "--- ANSWER --- = The displacement <= 159.5 separates the data in two parts, the part <= 159.5 and the part > 159.5.\n",
    "The squared_error is \n",
    "The samples are 240 in the top node because the total data in x_train is 240, and since is the first division of the data, for the moment is complete.\n",
    "The value is 23.853, what means the mean of all displacement variables that are part of this node (in this case there are every displacement data because is the first node).\n",
    "\n",
    "\n",
    "\n",
    "(b) How many terminal nodes does the tree have ?\n",
    "\n",
    "--- ANSWER --- = The tree have 4 terminal nodes.\n",
    "\n",
    "@@@@@@@@@@@@@@@@@@@@@@@@@@@@@@@@@@@@@@@@@@@@@@@@@@\n",
    "(c) What is the value of the train MSE ?\n",
    "\n",
    "--- ANSWER --- = The value of the train MSE is 15.3\n",
    "\n",
    "\n",
    "(d) What would be the predicted value gas mileage for a car with engine displacement 170\n",
    "(cu. inches) and engine horsepower 130.\n",
    "\n",
    "--- ANSWER --- = The predicted value gas mileage for this car will be 14.467."
   ]
  },
  {
   "cell_type": "markdown",
   "id": "e84c847e",
   "metadata": {},
   "source": [
    "[graded question] Use the function predict() to make predictions for the test set and calculate the test MSE. You can use the mean_squared_error function from sklearn.metrics. Compare the two errors and conclude if there is overfitting. If so, propose a solution (without calculating) to reduce the overfitting.\n",
    "\n",
    "--- ANSWER --- ="
   ]
  },
  {
   "cell_type": "code",
   "execution_count": 19,
   "id": "500c3273",
   "metadata": {
    "scrolled": true
   },
   "outputs": [
    {
     "name": "stdout",
     "output_type": "stream",
     "text": [
      "0.10474041206829506\n"
     ]
    }
   ],
   "source": [
    "import numpy as np\n",
    "#import sklearn.metrics as mean_squared_error\n",
    "from sklearn.metrics import mean_squared_error\n",
    "yhat= regr_tree_auto.predict(x_test)\n",
    "#print(pandas.DataFrame(yhat))\n",
    "#print(y_test_reg)\n",
    "arr= y_test_reg.to_numpy()\n",
    "print(mean_squared_error(y_test_reg,yhat))\n",
    "#print(mean_squared_error(np.array(y_test_reg) , np.array(pandas.DataFrame(yhat))))"
   ]
  },
  {
   "cell_type": "code",
   "execution_count": null,
   "id": "ca41c546",
   "metadata": {},
   "outputs": [],
   "source": []
  },
  {
   "cell_type": "markdown",
   "id": "ca0fdded",
   "metadata": {},
   "source": [
    "2. [graded question] Use the function predict() to make predictions for the test set and calculate\n",
    "the test MSE. You can use the mean_squared_error function from sklearn.metrics. Compare\n",
    "the two errors and conclude if there is overfitting. If so, propose a solution (without calculating)\n",
    "to reduce the overfitting.\n",
    "\n",
    "The MSE for the trained values was 15.3 and for the test values is 23.7. It s a lot of difference, so we can affirm that there is an overfitting. It means that the train data divide the values tu overfit with the examples of the train data set. To get it better we could use the Cost complexity pruning or wakest approach. This approach grow a very large tree and prune it back to obtain a more little subtree that can have the lowest test error possible."
   ]
  },
  {
   "cell_type": "markdown",
   "id": "4824ab9c",
   "metadata": {},
   "source": [
    "2.2 Classification Trees"
   ]
  },
  {
   "cell_type": "markdown",
   "id": "2139a7fb",
   "metadata": {},
   "source": [
    "Now you will use classification trees to predict whether a given car gets high or low gas mileage, denoted mpg01 in Lab2. To fit a classification tree you will use the function DecisionTreeClassi- fier(). For instance, to fit a decision tree of maximum depth 3 you can run the commands :"
   ]
  },
  {
   "cell_type": "code",
   "execution_count": 20,
   "id": "9d6946bf",
   "metadata": {
    "scrolled": false
   },
   "outputs": [
    {
     "name": "stdout",
     "output_type": "stream",
     "text": [
      "     mpg01\n",
      "134      0\n",
      "145      0\n",
      "63       1\n",
      "293      1\n",
      "285      1\n",
      "..     ...\n",
      "251      1\n",
      "192      0\n",
      "117      0\n",
      "47       0\n",
      "172      0\n",
      "\n",
      "[240 rows x 1 columns]\n"
     ]
    },
    {
     "data": {
      "text/plain": [
       "[Text(418.5, 713.475, 'displacement <= 190.5\\ngini = 0.499\\nsamples = 240\\nvalue = [116, 124]'),\n",
       " Text(209.25, 509.625, 'horsepower <= 101.0\\ngini = 0.252\\nsamples = 142\\nvalue = [21, 121]'),\n",
       " Text(104.625, 305.775, 'horsepower <= 81.5\\ngini = 0.171\\nsamples = 127\\nvalue = [12, 115]'),\n",
       " Text(52.3125, 101.92499999999995, 'gini = 0.05\\nsamples = 78\\nvalue = [2, 76]'),\n",
       " Text(156.9375, 101.92499999999995, 'gini = 0.325\\nsamples = 49\\nvalue = [10, 39]'),\n",
       " Text(313.875, 305.775, 'weight <= 2931.5\\ngini = 0.48\\nsamples = 15\\nvalue = [9, 6]'),\n",
       " Text(261.5625, 101.92499999999995, 'gini = 0.496\\nsamples = 11\\nvalue = [5, 6]'),\n",
       " Text(366.1875, 101.92499999999995, 'gini = 0.0\\nsamples = 4\\nvalue = [4, 0]'),\n",
       " Text(627.75, 509.625, 'horsepower <= 92.5\\ngini = 0.059\\nsamples = 98\\nvalue = [95, 3]'),\n",
       " Text(523.125, 305.775, 'displacement <= 255.0\\ngini = 0.26\\nsamples = 13\\nvalue = [11, 2]'),\n",
       " Text(470.8125, 101.92499999999995, 'gini = 0.153\\nsamples = 12\\nvalue = [11, 1]'),\n",
       " Text(575.4375, 101.92499999999995, 'gini = 0.0\\nsamples = 1\\nvalue = [0, 1]'),\n",
       " Text(732.375, 305.775, 'horsepower <= 107.5\\ngini = 0.023\\nsamples = 85\\nvalue = [84, 1]'),\n",
       " Text(680.0625, 101.92499999999995, 'gini = 0.105\\nsamples = 18\\nvalue = [17, 1]'),\n",
       " Text(784.6875, 101.92499999999995, 'gini = 0.0\\nsamples = 67\\nvalue = [67, 0]')]"
      ]
     },
     "execution_count": 20,
     "metadata": {},
     "output_type": "execute_result"
    },
    {
     "data": {
      "image/png": "[encoded data removed]",
      "text/plain": [
       "<Figure size 1080x1080 with 1 Axes>"
      ]
     },
     "metadata": {
      "needs_background": "light"
     },
     "output_type": "display_data"
    }
   ],
   "source": [
    "y_test = pandas.read_csv( \"y_test.csv\", index_col = 0)\n",
    "y_train = pandas.read_csv( \"y_train.csv\", index_col = 0)\n",
    "print(y_train)\n",
    "class_tree_auto=tree.DecisionTreeClassifier(max_depth=3)\n",
    "class_tree_auto.fit(x_train , y_train)\n",
    "plt.figure( figsize=(15,15))\n",
    "tree.plot_tree(class_tree_auto,feature_names=x_train.columns )"
   ]
  },
  {
   "cell_type": "markdown",
   "id": "a227a1be",
   "metadata": {},
   "source": [
    "[graded question] Plot the tree with the plot_tree function and answer the following questions :\n",
    "1. Interpret the value of the Gini index in the topmost node ? How was it calculated ?\n",
    "\n",
    "The gini index is 0.499 in the topmost node. it´s a really good indicator because when Gini index is a small value it means that a node contains predominantly obervations for one class and that´s not appropriate. We try to have branches that separates the data in equal parts mostly, because if we have a branch that just has 1 data, it means is already overfitting and separating is not necessary in this cases.\n",
    "\n",
    "To calculate it, we calculate first  the proportion of training observations in region m that belong to one class,\n",
    "we multiply it by 1-this same value.\n",
    "and we calculate it for the other class and make the summatory.\n",
    "For exemple, in this case: \n",
    "\n",
    "142/240 = 0.591\n",
    "0.59 * (1-0.59) = 0.24\n",
    "\n",
    "98/240 = 0.4\n",
    "o.4 * (1-0.4) = 0.24\n",
    "\n",
    "0.24+024 = 0.48\n",
    "\n",
    "\n",
    "\n",
    "2. Will the gas mileage be high for a car with engine displacement 120 (cu. inches) and engine\n",
    "horsepower 100 ?\n",
    "\n",
    "According to the plotted tree and looking at the data set, the MPG is going to have a low value below the median.\n",
    "\n",
    "@@@@@@@@@@@@@@@@@@@@@@@@@@@@@@@@@@@@@@@@@@@ lo cheque comparando con el dataset y viendo el value"
   ]
  },
  {
   "cell_type": "code",
   "execution_count": 21,
   "id": "ab463883",
   "metadata": {},
   "outputs": [
    {
     "name": "stdout",
     "output_type": "stream",
     "text": [
      "[DecisionTreeClassifier(ccp_alpha=0.0, class_weight=None, criterion='gini',\n",
      "                       max_depth=None, max_features=None, max_leaf_nodes=None,\n",
      "                       min_impurity_decrease=0.0, min_impurity_split=None,\n",
      "                       min_samples_leaf=1, min_samples_split=2,\n",
      "                       min_weight_fraction_leaf=0.0, presort='deprecated',\n",
      "                       random_state=0, splitter='best'), DecisionTreeClassifier(ccp_alpha=0.00257936507936508, class_weight=None,\n",
      "                       criterion='gini', max_depth=None, max_features=None,\n",
      "                       max_leaf_nodes=None, min_impurity_decrease=0.0,\n",
      "                       min_impurity_split=None, min_samples_leaf=1,\n",
      "                       min_samples_split=2, min_weight_fraction_leaf=0.0,\n",
      "                       presort='deprecated', random_state=0, splitter='best'), DecisionTreeClassifier(ccp_alpha=0.0025925925925925934, class_weight=None,\n",
      "                       criterion='gini', max_depth=None, max_features=None,\n",
      "                       max_leaf_nodes=None, min_impurity_decrease=0.0,\n",
      "                       min_impurity_split=None, min_samples_leaf=1,\n",
      "                       min_samples_split=2, min_weight_fraction_leaf=0.0,\n",
      "                       presort='deprecated', random_state=0, splitter='best'), DecisionTreeClassifier(ccp_alpha=0.003125, class_weight=None, criterion='gini',\n",
      "                       max_depth=None, max_features=None, max_leaf_nodes=None,\n",
      "                       min_impurity_decrease=0.0, min_impurity_split=None,\n",
      "                       min_samples_leaf=1, min_samples_split=2,\n",
      "                       min_weight_fraction_leaf=0.0, presort='deprecated',\n",
      "                       random_state=0, splitter='best'), DecisionTreeClassifier(ccp_alpha=0.0033333333333333327, class_weight=None,\n",
      "                       criterion='gini', max_depth=None, max_features=None,\n",
      "                       max_leaf_nodes=None, min_impurity_decrease=0.0,\n",
      "                       min_impurity_split=None, min_samples_leaf=1,\n",
      "                       min_samples_split=2, min_weight_fraction_leaf=0.0,\n",
      "                       presort='deprecated', random_state=0, splitter='best'), DecisionTreeClassifier(ccp_alpha=0.0038194444444444448, class_weight=None,\n",
      "                       criterion='gini', max_depth=None, max_features=None,\n",
      "                       max_leaf_nodes=None, min_impurity_decrease=0.0,\n",
      "                       min_impurity_split=None, min_samples_leaf=1,\n",
      "                       min_samples_split=2, min_weight_fraction_leaf=0.0,\n",
      "                       presort='deprecated', random_state=0, splitter='best'), DecisionTreeClassifier(ccp_alpha=0.0038194444444444448, class_weight=None,\n",
      "                       criterion='gini', max_depth=None, max_features=None,\n",
      "                       max_leaf_nodes=None, min_impurity_decrease=0.0,\n",
      "                       min_impurity_split=None, min_samples_leaf=1,\n",
      "                       min_samples_split=2, min_weight_fraction_leaf=0.0,\n",
      "                       presort='deprecated', random_state=0, splitter='best'), DecisionTreeClassifier(ccp_alpha=0.004117647058823526, class_weight=None,\n",
      "                       criterion='gini', max_depth=None, max_features=None,\n",
      "                       max_leaf_nodes=None, min_impurity_decrease=0.0,\n",
      "                       min_impurity_split=None, min_samples_leaf=1,\n",
      "                       min_samples_split=2, min_weight_fraction_leaf=0.0,\n",
      "                       presort='deprecated', random_state=0, splitter='best'), DecisionTreeClassifier(ccp_alpha=0.0041802554355075405, class_weight=None,\n",
      "                       criterion='gini', max_depth=None, max_features=None,\n",
      "                       max_leaf_nodes=None, min_impurity_decrease=0.0,\n",
      "                       min_impurity_split=None, min_samples_leaf=1,\n",
      "                       min_samples_split=2, min_weight_fraction_leaf=0.0,\n",
      "                       presort='deprecated', random_state=0, splitter='best'), DecisionTreeClassifier(ccp_alpha=0.004230769230769224, class_weight=None,\n",
      "                       criterion='gini', max_depth=None, max_features=None,\n",
      "                       max_leaf_nodes=None, min_impurity_decrease=0.0,\n",
      "                       min_impurity_split=None, min_samples_leaf=1,\n",
      "                       min_samples_split=2, min_weight_fraction_leaf=0.0,\n",
      "                       presort='deprecated', random_state=0, splitter='best'), DecisionTreeClassifier(ccp_alpha=0.004905303030303031, class_weight=None,\n",
      "                       criterion='gini', max_depth=None, max_features=None,\n",
      "                       max_leaf_nodes=None, min_impurity_decrease=0.0,\n",
      "                       min_impurity_split=None, min_samples_leaf=1,\n",
      "                       min_samples_split=2, min_weight_fraction_leaf=0.0,\n",
      "                       presort='deprecated', random_state=0, splitter='best'), DecisionTreeClassifier(ccp_alpha=0.006460655184059439, class_weight=None,\n",
      "                       criterion='gini', max_depth=None, max_features=None,\n",
      "                       max_leaf_nodes=None, min_impurity_decrease=0.0,\n",
      "                       min_impurity_split=None, min_samples_leaf=1,\n",
      "                       min_samples_split=2, min_weight_fraction_leaf=0.0,\n",
      "                       presort='deprecated', random_state=0, splitter='best'), DecisionTreeClassifier(ccp_alpha=0.0072727272727272675, class_weight=None,\n",
      "                       criterion='gini', max_depth=None, max_features=None,\n",
      "                       max_leaf_nodes=None, min_impurity_decrease=0.0,\n",
      "                       min_impurity_split=None, min_samples_leaf=1,\n",
      "                       min_samples_split=2, min_weight_fraction_leaf=0.0,\n",
      "                       presort='deprecated', random_state=0, splitter='best'), DecisionTreeClassifier(ccp_alpha=0.009496357963437889, class_weight=None,\n",
      "                       criterion='gini', max_depth=None, max_features=None,\n",
      "                       max_leaf_nodes=None, min_impurity_decrease=0.0,\n",
      "                       min_impurity_split=None, min_samples_leaf=1,\n",
      "                       min_samples_split=2, min_weight_fraction_leaf=0.0,\n",
      "                       presort='deprecated', random_state=0, splitter='best'), DecisionTreeClassifier(ccp_alpha=0.02856853720749697, class_weight=None,\n",
      "                       criterion='gini', max_depth=None, max_features=None,\n",
      "                       max_leaf_nodes=None, min_impurity_decrease=0.0,\n",
      "                       min_impurity_split=None, min_samples_leaf=1,\n",
      "                       min_samples_split=2, min_weight_fraction_leaf=0.0,\n",
      "                       presort='deprecated', random_state=0, splitter='best')]\n",
      "[0.         0.00257937 0.00259259 0.003125   0.00333333 0.00381944\n",
      " 0.00381944 0.00411765 0.00418026 0.00423077 0.0049053  0.00646066\n",
      " 0.00727273 0.00949636 0.02856854]\n"
     ]
    }
   ],
   "source": [
    "prun_tree_auto=tree.DecisionTreeClassifier(random_state=1)\n",
    "path = prun_tree_auto.cost_complexity_pruning_path(x_train,y_train)\n",
    "alphas,impurities = path.ccp_alphas,path.impurities\n",
    "\n",
    "class_tree_auto_list=[]\n",
    "for alpha in alphas :\n",
    "    clf = tree.DecisionTreeClassifier(random_state=0, ccp_alpha=alpha )\n",
    "    clf.fit(x_train , y_train )\n",
    "    class_tree_auto_list.append (clf)\n",
    "    \n",
    "class_tree_autolist = class_tree_auto_list[: -1]\n",
    "alphas = alphas [: -1]\n",
    "print(class_tree_autolist)\n",
    "print(alphas)\n"
   ]
  },
  {
   "cell_type": "code",
   "execution_count": 22,
   "id": "56bd1306",
   "metadata": {},
   "outputs": [
    {
     "name": "stdout",
     "output_type": "stream",
     "text": [
      "DecisionTreeClassifier(ccp_alpha=0.0, class_weight=None, criterion='gini',\n",
      "                       max_depth=None, max_features=None, max_leaf_nodes=None,\n",
      "                       min_impurity_decrease=0.0, min_impurity_split=None,\n",
      "                       min_samples_leaf=1, min_samples_split=2,\n",
      "                       min_weight_fraction_leaf=0.0, presort='deprecated',\n",
      "                       random_state=0, splitter='best')\n",
      "[1 1 0 0 0 1 1 1 0 1 1 1 1 1 0 0 0 1 1 0 1 0 0 0 0 0 1 1 1 1 1 1 0 0 0 1 0\n",
      " 1 0 0 0 0 0 0 1 1 1 1 0 1 0 1 0 0 0 1 1 0 1 0]\n",
      "1.0\n",
      "0.8666666666666667\n",
      "11\n",
      "DecisionTreeClassifier(ccp_alpha=0.00257936507936508, class_weight=None,\n",
      "                       criterion='gini', max_depth=None, max_features=None,\n",
      "                       max_leaf_nodes=None, min_impurity_decrease=0.0,\n",
      "                       min_impurity_split=None, min_samples_leaf=1,\n",
      "                       min_samples_split=2, min_weight_fraction_leaf=0.0,\n",
      "                       presort='deprecated', random_state=0, splitter='best')\n",
      "[1 1 0 0 0 1 1 1 0 1 1 1 1 1 0 0 0 1 1 0 1 0 0 0 0 0 1 1 1 1 1 1 0 0 0 1 0\n",
      " 1 0 0 0 0 0 0 1 1 1 1 0 1 0 1 0 0 0 1 1 0 1 0]\n",
      "0.9958333333333333\n",
      "0.8666666666666667\n",
      "8\n",
      "DecisionTreeClassifier(ccp_alpha=0.0025925925925925934, class_weight=None,\n",
      "                       criterion='gini', max_depth=None, max_features=None,\n",
      "                       max_leaf_nodes=None, min_impurity_decrease=0.0,\n",
      "                       min_impurity_split=None, min_samples_leaf=1,\n",
      "                       min_samples_split=2, min_weight_fraction_leaf=0.0,\n",
      "                       presort='deprecated', random_state=0, splitter='best')\n",
      "[1 1 0 0 0 1 1 1 0 1 1 1 1 1 0 0 1 1 1 0 1 0 0 0 0 0 1 1 1 1 1 1 0 0 0 1 0\n",
      " 1 0 0 0 0 0 0 1 1 1 1 0 1 0 1 0 0 0 1 1 0 1 0]\n",
      "0.9916666666666667\n",
      "0.8833333333333333\n",
      "8\n",
      "DecisionTreeClassifier(ccp_alpha=0.003125, class_weight=None, criterion='gini',\n",
      "                       max_depth=None, max_features=None, max_leaf_nodes=None,\n",
      "                       min_impurity_decrease=0.0, min_impurity_split=None,\n",
      "                       min_samples_leaf=1, min_samples_split=2,\n",
      "                       min_weight_fraction_leaf=0.0, presort='deprecated',\n",
      "                       random_state=0, splitter='best')\n",
      "[1 1 0 0 0 1 1 1 0 1 1 1 1 1 0 0 1 1 1 0 1 0 0 0 0 0 1 1 1 1 1 1 0 0 0 1 0\n",
      " 1 0 0 0 0 0 0 1 1 1 1 0 1 0 1 0 0 0 1 1 0 1 0]\n",
      "0.9875\n",
      "0.8833333333333333\n",
      "8\n",
      "DecisionTreeClassifier(ccp_alpha=0.0033333333333333327, class_weight=None,\n",
      "                       criterion='gini', max_depth=None, max_features=None,\n",
      "                       max_leaf_nodes=None, min_impurity_decrease=0.0,\n",
      "                       min_impurity_split=None, min_samples_leaf=1,\n",
      "                       min_samples_split=2, min_weight_fraction_leaf=0.0,\n",
      "                       presort='deprecated', random_state=0, splitter='best')\n",
      "[1 1 0 0 0 1 1 1 0 1 1 1 1 1 0 0 1 1 1 0 1 0 0 0 0 0 1 1 1 1 1 1 0 0 0 1 0\n",
      " 1 0 0 0 0 0 0 1 1 1 1 0 1 0 1 0 0 0 1 1 0 1 0]\n",
      "0.9833333333333333\n",
      "0.8833333333333333\n",
      "8\n",
      "DecisionTreeClassifier(ccp_alpha=0.0038194444444444448, class_weight=None,\n",
      "                       criterion='gini', max_depth=None, max_features=None,\n",
      "                       max_leaf_nodes=None, min_impurity_decrease=0.0,\n",
      "                       min_impurity_split=None, min_samples_leaf=1,\n",
      "                       min_samples_split=2, min_weight_fraction_leaf=0.0,\n",
      "                       presort='deprecated', random_state=0, splitter='best')\n",
      "[1 1 0 0 0 1 1 1 0 1 1 1 1 1 0 0 1 1 1 0 1 0 0 0 0 0 1 1 1 1 1 1 0 0 0 1 0\n",
      " 1 0 0 0 0 0 0 1 1 1 1 0 1 0 1 0 0 0 1 1 0 1 0]\n",
      "0.9708333333333333\n",
      "0.8833333333333333\n",
      "8\n",
      "DecisionTreeClassifier(ccp_alpha=0.0038194444444444448, class_weight=None,\n",
      "                       criterion='gini', max_depth=None, max_features=None,\n",
      "                       max_leaf_nodes=None, min_impurity_decrease=0.0,\n",
      "                       min_impurity_split=None, min_samples_leaf=1,\n",
      "                       min_samples_split=2, min_weight_fraction_leaf=0.0,\n",
      "                       presort='deprecated', random_state=0, splitter='best')\n",
      "[1 1 0 0 0 1 1 1 0 1 1 1 1 1 0 0 1 1 1 0 1 0 0 0 0 0 1 1 1 1 1 1 0 0 0 1 0\n",
      " 1 0 0 0 0 0 0 1 1 1 1 0 1 0 1 0 0 0 1 1 0 1 0]\n",
      "0.9708333333333333\n",
      "0.8833333333333333\n",
      "8\n",
      "DecisionTreeClassifier(ccp_alpha=0.004117647058823526, class_weight=None,\n",
      "                       criterion='gini', max_depth=None, max_features=None,\n",
      "                       max_leaf_nodes=None, min_impurity_decrease=0.0,\n",
      "                       min_impurity_split=None, min_samples_leaf=1,\n",
      "                       min_samples_split=2, min_weight_fraction_leaf=0.0,\n",
      "                       presort='deprecated', random_state=0, splitter='best')\n",
      "[1 1 0 0 0 1 1 1 0 1 1 1 1 1 0 0 1 1 1 0 1 0 0 0 0 0 1 1 1 1 1 1 0 0 0 1 0\n",
      " 1 0 0 0 0 0 0 1 1 1 1 0 1 0 1 0 0 0 1 1 0 1 0]\n",
      "0.9666666666666667\n",
      "0.8833333333333333\n",
      "8\n",
      "DecisionTreeClassifier(ccp_alpha=0.0041802554355075405, class_weight=None,\n",
      "                       criterion='gini', max_depth=None, max_features=None,\n",
      "                       max_leaf_nodes=None, min_impurity_decrease=0.0,\n",
      "                       min_impurity_split=None, min_samples_leaf=1,\n",
      "                       min_samples_split=2, min_weight_fraction_leaf=0.0,\n",
      "                       presort='deprecated', random_state=0, splitter='best')\n",
      "[1 1 0 0 0 1 1 1 0 1 1 1 1 1 0 0 1 1 1 0 1 0 0 0 0 0 1 1 1 0 1 1 0 0 0 1 0\n",
      " 1 0 0 0 0 0 0 1 1 1 1 0 1 0 1 0 0 0 1 1 0 1 0]\n",
      "0.9625\n",
      "0.8666666666666667\n",
      "8\n",
      "DecisionTreeClassifier(ccp_alpha=0.004230769230769224, class_weight=None,\n",
      "                       criterion='gini', max_depth=None, max_features=None,\n",
      "                       max_leaf_nodes=None, min_impurity_decrease=0.0,\n",
      "                       min_impurity_split=None, min_samples_leaf=1,\n",
      "                       min_samples_split=2, min_weight_fraction_leaf=0.0,\n",
      "                       presort='deprecated', random_state=0, splitter='best')\n",
      "[1 1 0 0 0 1 1 1 0 1 1 1 1 1 0 0 1 1 1 0 1 0 0 0 0 0 1 1 1 0 1 1 0 0 0 1 0\n",
      " 1 0 0 0 0 0 0 1 1 1 1 0 1 0 1 0 0 0 1 1 0 1 0]\n",
      "0.9583333333333334\n",
      "0.8666666666666667\n",
      "8\n",
      "DecisionTreeClassifier(ccp_alpha=0.004905303030303031, class_weight=None,\n",
      "                       criterion='gini', max_depth=None, max_features=None,\n",
      "                       max_leaf_nodes=None, min_impurity_decrease=0.0,\n",
      "                       min_impurity_split=None, min_samples_leaf=1,\n",
      "                       min_samples_split=2, min_weight_fraction_leaf=0.0,\n",
      "                       presort='deprecated', random_state=0, splitter='best')\n",
      "[1 1 0 0 0 1 1 1 0 1 1 1 1 1 0 0 1 1 1 0 1 0 0 0 0 0 1 1 1 0 1 1 0 0 0 1 0\n",
      " 1 0 0 0 0 0 0 1 1 1 1 0 1 0 1 0 0 0 1 1 0 1 0]\n",
      "0.9458333333333333\n",
      "0.8666666666666667\n",
      "8\n",
      "DecisionTreeClassifier(ccp_alpha=0.006460655184059439, class_weight=None,\n",
      "                       criterion='gini', max_depth=None, max_features=None,\n",
      "                       max_leaf_nodes=None, min_impurity_decrease=0.0,\n",
      "                       min_impurity_split=None, min_samples_leaf=1,\n",
      "                       min_samples_split=2, min_weight_fraction_leaf=0.0,\n",
      "                       presort='deprecated', random_state=0, splitter='best')\n",
      "[1 1 0 0 0 1 1 1 0 1 1 1 1 1 0 0 1 1 1 0 1 0 0 0 0 0 1 1 1 0 1 1 0 0 0 1 0\n",
      " 1 1 0 0 0 0 0 1 1 1 1 0 1 0 1 0 0 0 1 1 0 1 0]\n",
      "0.925\n",
      "0.8833333333333333\n",
      "4\n",
      "DecisionTreeClassifier(ccp_alpha=0.0072727272727272675, class_weight=None,\n",
      "                       criterion='gini', max_depth=None, max_features=None,\n",
      "                       max_leaf_nodes=None, min_impurity_decrease=0.0,\n",
      "                       min_impurity_split=None, min_samples_leaf=1,\n",
      "                       min_samples_split=2, min_weight_fraction_leaf=0.0,\n",
      "                       presort='deprecated', random_state=0, splitter='best')\n",
      "[1 1 0 0 0 1 1 1 0 1 1 1 1 1 0 0 1 1 1 0 1 0 0 0 0 0 1 1 1 0 1 1 0 0 0 1 0\n",
      " 1 1 0 0 0 0 0 1 1 1 1 0 1 0 1 0 0 0 0 1 0 1 0]\n",
      "0.9208333333333333\n",
      "0.8666666666666667\n",
      "4\n",
      "DecisionTreeClassifier(ccp_alpha=0.009496357963437889, class_weight=None,\n",
      "                       criterion='gini', max_depth=None, max_features=None,\n",
      "                       max_leaf_nodes=None, min_impurity_decrease=0.0,\n",
      "                       min_impurity_split=None, min_samples_leaf=1,\n",
      "                       min_samples_split=2, min_weight_fraction_leaf=0.0,\n",
      "                       presort='deprecated', random_state=0, splitter='best')\n",
      "[1 1 0 0 0 1 1 1 0 1 1 1 1 1 0 0 1 1 1 0 1 0 0 0 0 0 1 1 1 0 1 1 0 0 0 1 0\n",
      " 1 1 0 0 0 0 0 1 1 1 1 0 1 0 1 0 0 0 0 1 0 1 0]\n",
      "0.9125\n",
      "0.8666666666666667\n",
      "2\n",
      "DecisionTreeClassifier(ccp_alpha=0.02856853720749697, class_weight=None,\n",
      "                       criterion='gini', max_depth=None, max_features=None,\n",
      "                       max_leaf_nodes=None, min_impurity_decrease=0.0,\n",
      "                       min_impurity_split=None, min_samples_leaf=1,\n",
      "                       min_samples_split=2, min_weight_fraction_leaf=0.0,\n",
      "                       presort='deprecated', random_state=0, splitter='best')\n",
      "[1 1 0 0 0 1 1 1 0 1 1 1 1 1 0 0 1 1 1 0 1 0 0 0 0 0 1 1 1 0 1 1 0 0 0 1 0\n",
      " 1 1 0 0 0 0 0 1 1 1 1 0 1 0 1 0 0 0 1 1 0 1 0]\n",
      "0.9\n",
      "0.8833333333333333\n",
      "1\n",
      "[0.8666666666666667, 0.8666666666666667, 0.8833333333333333, 0.8833333333333333, 0.8833333333333333, 0.8833333333333333, 0.8833333333333333, 0.8833333333333333, 0.8666666666666667, 0.8666666666666667, 0.8666666666666667, 0.8833333333333333, 0.8666666666666667, 0.8666666666666667, 0.8833333333333333]\n",
      "[0.         0.00257937 0.00259259 0.003125   0.00333333 0.00381944\n",
      " 0.00381944 0.00411765 0.00418026 0.00423077 0.0049053  0.00646066\n",
      " 0.00727273 0.00949636 0.02856854]\n",
      "[69, 63, 57, 53, 49, 37, 37, 33, 29, 25, 21, 11, 9, 5, 3]\n"
     ]
    }
   ],
   "source": [
    "from sklearn.metrics import accuracy_score\n",
    "import pandas\n",
    "scores_foreach = []\n",
    "depth = []\n",
    "sc_train = []\n",
    "clfs = []\n",
    "for i in class_tree_autolist:\n",
    "    print(i)\n",
    "    auto_tree = i.fit(x_train , y_train)\n",
    "    clfs.append(i)\n",
    "    y_foreach= auto_tree.predict(x_test)\n",
    "    y_predict_train = auto_tree.predict(x_train)\n",
    "    print(y_foreach)\n",
    "    score = accuracy_score(y_test, y_foreach)\n",
    "    scores_foreach.append(score)\n",
    "    print(accuracy_score(y_train, y_predict_train))\n",
    "    print(score)\n",
    "    print(auto_tree.get_depth())\n",
    "    depth.append(auto_tree.get_depth())\n",
    "    sc_train.append(accuracy_score(y_train, y_predict_train))\n",
    "    \n",
    "print(scores_foreach)\n",
    "print(alphas)\n",
    "node_counts = [clf.tree_.node_count for clf in clfs]\n",
    "print(node_counts)\n"
   ]
  },
  {
   "cell_type": "code",
   "execution_count": 23,
   "id": "3897db4b",
   "metadata": {},
   "outputs": [
    {
     "data": {
      "image/png": "[encoded data removed]",
      "text/plain": [
       "<Figure size 432x288 with 1 Axes>"
      ]
     },
     "metadata": {
      "needs_background": "light"
     },
     "output_type": "display_data"
    }
   ],
   "source": [
    "import matplotlib.pyplot as plt\n",
    "plt.plot( scores_foreach,node_counts, \"-\")\n",
    "plt.plot(sc_train , node_counts, \"-\")\n",
    "plt.show()"
   ]
  },
  {
   "cell_type": "code",
   "execution_count": 24,
   "id": "2fd89d0a",
   "metadata": {},
   "outputs": [
    {
     "name": "stdout",
     "output_type": "stream",
     "text": [
      "5\n",
      "[[28  2]\n",
      " [ 6 24]]\n",
      "              precision    recall  f1-score   support\n",
      "\n",
      "           0      0.824     0.933     0.875        30\n",
      "           1      0.923     0.800     0.857        30\n",
      "\n",
      "    accuracy                          0.867        60\n",
      "   macro avg      0.873     0.867     0.866        60\n",
      "weighted avg      0.873     0.867     0.866        60\n",
      "\n",
      "0.07916666666666672\n",
      "0.1333333333333333\n",
      "0.13333333333333333\n"
     ]
    }
   ],
   "source": [
    "from sklearn.metrics import confusion_matrix , classification_report\n",
    "select = class_tree_autolist[len(class_tree_autolist)-3]\n",
    "auto_tree_res = select.fit(x_train , y_train)\n",
    "y_res= auto_tree_res.predict(x_test)\n",
    "\n",
    "print(auto_tree_res.get_n_leaves())\n",
    "\n",
    "\n",
    "print ( confusion_matrix ( y_res, y_test ) )\n",
    "print ( classification_report ( y_res , y_test , digits =3))\n",
    "\n",
    "\n",
    "#train error\n",
    "accuracy = accuracy_score(y_train , auto_tree_res.predict(x_train))\n",
    "print(1 - accuracy)\n",
    "\n",
    "#test error\n",
    "test_error_ac = accuracy_score(y_test, y_res)\n",
    "print(1 - test_error_ac)\n",
    "\n",
    "print(mean_squared_error(y_test,y_res))"
   ]
  },
  {
   "cell_type": "markdown",
   "id": "7e3e7175",
   "metadata": {},
   "source": [
    "c) [graded question] Finally, calculate the accuracy using the function score() for each fitted tree\n",
    "in the train and the test set and choose the best value of α. How many leaves does the chosen tree\n",
    "have ? Plot the train and test accuracy versus the tree size. \n",
    "Comment on the obtained results.\n",
    "\n",
    "So we can see when the nodes are increasing the accuracy is increasing too, for the train data, because it s an overfitting.\n",
    "For the test data the two better accuracy we have are with 4 and 8 levels and we are going to choose the tree of 4 levels, because it s a good performance with not that much levels, to avoid overfitting. This tree has 5 leaves and the value of α for this tree is aprox 0.92083.\n",
    "\n",
    "What are the estimated train and test error for the chosen classifier ? Calculate the confusion\n",
    "matrix and the classification report (see Lab2) and interpret the performance metrics.\n",
    "\n",
    "The estimated train error is 0.079 what is very little, but the estimated test error is 0.133 what is bigger.\n",
    "The confussion matrix has 28 true positives, 2 false positives, 6 false negatives and 24 true negatives what is okay.\n",
    "But the false negatives are almost a 1/5 of the total real negatives, so, in fact this model is better than the other one, but is not better than the models of the past tp,but still a possible model.\n"
   ]
  },
  {
   "cell_type": "code",
   "execution_count": 25,
   "id": "e59da022",
   "metadata": {},
   "outputs": [
    {
     "name": "stdout",
     "output_type": "stream",
     "text": [
      "1.0\n",
      "0.8666666666666667\n"
     ]
    }
   ],
   "source": [
    "from sklearn.ensemble import RandomForestClassifier ,GradientBoostingClassifier\n",
    "\n",
    "bagging_auto = RandomForestClassifier ( max_features = 4 , random_state = 1)\n",
    "bagging_auto.fit(x_train , y_train.mpg01)\n",
    "\n",
    "print(accuracy_score(y_train, bagging_auto.predict(x_train)))\n",
    "print(accuracy_score(y_test, bagging_auto.predict(x_test)))"
   ]
  },
  {
   "cell_type": "markdown",
   "id": "7db3710f",
   "metadata": {},
   "source": [
    "1. Calculate the train and test accuracy and interpret the results.\n",
    "\n",
    "Well, the result for the train accuracy is 1, wich means is perfect. We could thing is an overfitting but is possible is not, because normally the method of the Random Forest Classifier grow a really big tree with pure nodes, with random data (boosting), so is really possible to fit the data in a tree of pure nodes with this method. The accuracy score of the test is not that bad, what means that the method performs on an acceptable way."
   ]
  },
  {
   "cell_type": "markdown",
   "id": "519e91b5",
   "metadata": {},
   "source": [
    "2. [graded question] Modify the code of the previous question in order to perform random forests\n",
    "with m =√p. Calculate the train and test accuracy and interpret.\n",
    "\n",
    "Here, we can see that the accuracy of the train data is also 1, maybe for the sames reasons. In this case we are just taking sqrt of p in the max_features, and the results are very similar with the entire p results, but a little less effifcient. Ii can be maybe because there are 2 predonimant classifiers and they have the same influence in both models."
   ]
  },
  {
   "cell_type": "code",
   "execution_count": 26,
   "id": "dae4b588",
   "metadata": {},
   "outputs": [
    {
     "name": "stdout",
     "output_type": "stream",
     "text": [
      "1.0\n",
      "0.8833333333333333\n"
     ]
    }
   ],
   "source": [
    "bagging_auto_sqrt = RandomForestClassifier ( max_features=2 , random_state = 1)\n",
    "bagging_auto_sqrt.fit(x_train , y_train.mpg01)\n",
    "\n",
    "print(accuracy_score(y_train, bagging_auto_sqrt.predict(x_train)))\n",
    "print(accuracy_score(y_test, bagging_auto_sqrt.predict(x_test)))\n",
    "\n"
   ]
  },
  {
   "cell_type": "markdown",
   "id": "0568c320",
   "metadata": {},
   "source": [
    "3. [graded question] Perform gradient boosting using the following input parameters in the function : learning rate λ = 1, maximum d = 1 and set the random state to 0. Calculate the train and test accuracy and interpret.\n",
    "\n",
    "Here, the accuracy for both, test and train data are a little low than in the past excercise. But a good point for this model is that the test and train accuracy are more similar than in the other two past models. It is because in this kind of model the data grows slowly and try at each step to fit to the errors of the tree and perform well in each step."
   ]
  },
  {
   "cell_type": "code",
   "execution_count": 27,
   "id": "6e0869c3",
   "metadata": {},
   "outputs": [
    {
     "name": "stdout",
     "output_type": "stream",
     "text": [
      "0.9125\n",
      "0.85\n"
     ]
    }
   ],
   "source": [
    "from sklearn.ensemble import GradientBoostingClassifier\n",
    "y_grad_b = GradientBoostingClassifier(learning_rate=1.0, max_depth=1, random_state=0).fit(x_train, y_train.mpg01)\n",
    "print(accuracy_score(y_train, y_grad_b.predict(x_train)))\n",
    "print(accuracy_score(y_test, y_grad_b.predict(x_test)))\n"
   ]
  },
  {
   "cell_type": "code",
   "execution_count": 28,
   "id": "084e045a",
   "metadata": {},
   "outputs": [
    {
     "name": "stdout",
     "output_type": "stream",
     "text": [
      "[0.12551411 0.4123364  0.09606823 0.36608126]\n"
     ]
    },
    {
     "data": {
      "text/plain": [
       "Text(0.5, 0, 'Variable Importance')"
      ]
     },
     "execution_count": 28,
     "metadata": {},
     "output_type": "execute_result"
    },
    {
     "data": {
      "image/png": "[encoded data removed]",
      "text/plain": [
       "<Figure size 432x288 with 1 Axes>"
      ]
     },
     "metadata": {
      "needs_background": "light"
     },
     "output_type": "display_data"
    }
   ],
   "source": [
    "print(bagging_auto.feature_importances_)\n",
    "Importance = pandas.DataFrame({ \"Importance\" :bagging_auto.feature_importances_*100},\n",
    "index = x_train .columns)\n",
    "Importance.sort_values(by = \"Importance\" , axis = 0,ascending = True).plot(kind = \"barh\" )\n",
    "plt.xlabel( \"Variable Importance\" )"
   ]
  },
  {
   "cell_type": "markdown",
   "id": "3067ecb2",
   "metadata": {},
   "source": [
    "4. [graded question] Although Bagging, Random Forests and Boosting methods lose in interpretability in comparison to a single decision tree, it is possible to measure the importance of each\n",
    "predictor. This information is stored in the attribute feature_importances_. For instance,\n",
    "for the bagging classifier you can obtain the variable importance with the command bagging_auto.feature_importances_. Calculate the variable importance for the three classifiers\n",
    "(bagging, random classifier and boosting). Interpret and comment on the results. In addition\n",
    "you can make a barplot chart of the variable importance :\n",
    "\n",
    "We can see that there are two predominant classifiers, desplacement and weight. It was our supposition in the second question of this part. It means that the decision tree has to start with this two predictors, and separate data based on it. \n"
   ]
  },
  {
   "cell_type": "markdown",
   "id": "46f414f9",
   "metadata": {},
   "source": [
    "---- SUPPORT VECTOR MACHINES ----"
   ]
  },
  {
   "cell_type": "code",
   "execution_count": 29,
   "id": "41f13eaf",
   "metadata": {},
   "outputs": [
    {
     "name": "stdout",
     "output_type": "stream",
     "text": [
      "[  0  13  19  20  21  31  35  39  55  77 101 111 113 117 118 128 130 145\n",
      " 164 173 178 186 190 198 215 229 232 239   4  11  15  24  32  41  45  54\n",
      "  61  93 110 116 125 136 137 139 148 150 154 159 163 169 189 191 197 209\n",
      " 212]\n",
      "[1 1 0 0 0 1 1 1 0 1 1 1 1 1 0 0 1 1 1 0 1 0 0 0 0 0 1 1 1 0 1 1 0 0 0 1 0\n",
      " 1 1 0 0 0 0 0 1 1 1 1 0 1 0 1 0 0 0 0 1 0 1 0]\n",
      "     mpg01\n",
      "134      0\n",
      "145      0\n",
      "63       1\n",
      "293      1\n",
      "285      1\n",
      "..     ...\n",
      "251      1\n",
      "192      0\n",
      "117      0\n",
      "47       0\n",
      "172      0\n",
      "\n",
      "[240 rows x 1 columns]\n",
      "[[28  2]\n",
      " [ 6 24]]\n",
      "              precision    recall  f1-score   support\n",
      "\n",
      "           0      0.824     0.933     0.875        30\n",
      "           1      0.923     0.800     0.857        30\n",
      "\n",
      "    accuracy                          0.867        60\n",
      "   macro avg      0.873     0.867     0.866        60\n",
      "weighted avg      0.873     0.867     0.866        60\n",
      "\n"
     ]
    }
   ],
   "source": [
    "from sklearn.svm import SVC\n",
    "svm_auto = SVC(C=1, kernel=\"linear\" )\n",
    "svm_auto.fit(x_train , np.ravel(y_train ))\n",
    "y_svm = svm_auto.predict(x_test)\n",
    "print(svm_auto.support_)\n",
    "print(y_svm)\n",
    "print(y_train)\n",
    "print ( confusion_matrix (y_svm, y_test ) )\n",
    "print ( classification_report ( y_svm , y_test , digits =3))"
   ]
  },
  {
   "cell_type": "code",
   "execution_count": 43,
   "id": "23456ea0",
   "metadata": {},
   "outputs": [
    {
     "name": "stdout",
     "output_type": "stream",
     "text": [
      "55\n"
     ]
    }
   ],
   "source": [
    "#amount of support vector machines\n",
    "print(len(svm_auto.support_))"
   ]
  },
  {
   "cell_type": "markdown",
   "id": "def23a6f",
   "metadata": {},
   "source": [
    "Calculate the confusion matrix and the accuracy for the test set and comment on the results.\n",
    "The command svm_auto.support_ outputs a list of the support vectors. How many support\n",
    "vectors does the model have ?\n",
    "\n",
    "--- ANSWER --- = After looking at the matrix and the report, it is interesting to observe that it has a similar behavior to the results thrown by the best decision tree classificator, which means that we could have sabed all the computational cost of the getting the best tree, by just using the SVM which threw the same results. Finally it can be infered that the success of the SVM could be due to its 55 suport vectors.\n"
   ]
  },
  {
   "cell_type": "code",
   "execution_count": 30,
   "id": "8cce3af0",
   "metadata": {},
   "outputs": [
    {
     "name": "stdout",
     "output_type": "stream",
     "text": [
      "{'C': 0.001}\n"
     ]
    }
   ],
   "source": [
    "\n",
    "from sklearn.model_selection import GridSearchCV\n",
    "tuned_parameters = [{ \"C\" : [0.001, 0.01, 0.1, 1, 5, 10]}]\n",
    "svm_auto_CV = GridSearchCV(SVC(kernel=\"linear\" ), tuned_parameters, cv=10, scoring=\"accuracy\")\n",
    "svm_auto_CV.fit (x_train, np. ravel(y_train))\n",
    "print(svm_auto_CV.best_params_)"
   ]
  },
  {
   "cell_type": "markdown",
   "id": "f1e5b98f",
   "metadata": {},
   "source": [
    "What is the best value of C in terms of accuracy ? The best parameter value can be obtained\n",
    "with command svm_auto_CV.best_params_.\n",
    "\n",
    "--- ANSWER --- = The best params function showed c=0.001 as the best parameter for C\n",
    "\n",
    "Fit the SVM classifier to the train set with chosen value of C. How many support vectors does\n",
    "the model have ? Calculate performance metrics (accuracy, confusion matrix, etc), comment on\n",
    "the results.\n",
    "\n",
    "--- ANSWER IN CODE--- ="
   ]
  },
  {
   "cell_type": "code",
   "execution_count": 51,
   "id": "17b8ad28",
   "metadata": {},
   "outputs": [],
   "source": [
    "#Training SVM with best C\n",
    "svm_best_c = SVC(C=0.001, kernel=\"linear\" )\n",
    "svm_best_c.fit(x_train , np.ravel(y_train ))\n",
    "y_svm_best_c = svm_best_c.predict(x_test)"
   ]
  },
  {
   "cell_type": "code",
   "execution_count": 52,
   "id": "17acb0ae",
   "metadata": {},
   "outputs": [
    {
     "name": "stdout",
     "output_type": "stream",
     "text": [
      "62\n",
      "[[27  2]\n",
      " [ 7 24]]\n",
      "              precision    recall  f1-score   support\n",
      "\n",
      "           0      0.794     0.931     0.857        29\n",
      "           1      0.923     0.774     0.842        31\n",
      "\n",
      "    accuracy                          0.850        60\n",
      "   macro avg      0.859     0.853     0.850        60\n",
      "weighted avg      0.861     0.850     0.849        60\n",
      "\n"
     ]
    }
   ],
   "source": [
    "print(len(svm_best_c.support_))\n",
    "#print(y_svm_best_c)\n",
    "#print(y_train)\n",
    "print ( confusion_matrix (y_svm_best_c, y_test ) )\n",
    "print ( classification_report ( y_svm_best_c , y_test , digits =3))"
   ]
  },
  {
   "cell_type": "markdown",
   "id": "3d7cfb45",
   "metadata": {},
   "source": [
    "@@@@@@@@@@@@@@@@@@@@@@@@@@@@\n",
    "--- ANSWER (Interpretation) ---  = In this case with a C=0.001 which showed to be the best one while using the best_params function, this SVM is using 62 vectors, while the classification report and the matrix seems to be worse than the previous one while using C=1, probably due to its overfitting while using 62 vectors, in comparison with the last one which used 50."
   ]
  },
  {
   "cell_type": "markdown",
   "id": "3a677b01",
   "metadata": {},
   "source": [
    "3."
   ]
  },
  {
   "cell_type": "code",
   "execution_count": 54,
   "id": "6adc6dd7",
   "metadata": {},
   "outputs": [
    {
     "data": {
      "text/plain": [
       "Text(0, 0.5, 'X2')"
      ]
     },
     "execution_count": 54,
     "metadata": {},
     "output_type": "execute_result"
    },
    {
     "data": {
      "image/png": "[encoded data removed]",
      "text/plain": [
       "<Figure size 432x288 with 1 Axes>"
      ]
     },
     "metadata": {
      "needs_background": "light"
     },
     "output_type": "display_data"
    }
   ],
   "source": [
    "np.random.seed (8)\n",
    "X = np.random.randn(200,2)\n",
    "X[: 100] = X[: 100 ] +2\n",
    "X[ 101: 150] = X[ 101: 150] -2\n",
    "Y = np. concatenate ( [ np. repeat (-1,150) , np. repeat (1,50)] )\n",
    "plt.scatter(X[:,0] ,X[ : , 1 ] , s=70, c=Y, cmap=plt.cm.Paired )\n",
    "plt.xlabel ( \"X1\" )\n",
    "plt.ylabel ( \"X2\" )\n"
   ]
  },
  {
   "cell_type": "code",
   "execution_count": 56,
   "id": "19a32292",
   "metadata": {},
   "outputs": [
    {
     "data": {
      "text/plain": [
       "<matplotlib.contour.QuadContourSet at 0x7f8414abde90>"
      ]
     },
     "execution_count": 56,
     "metadata": {},
     "output_type": "execute_result"
    },
    {
     "data": {
      "image/png": "[encoded data removed]",
      "text/plain": [
       "<Figure size 432x288 with 1 Axes>"
      ]
     },
     "metadata": {
      "needs_background": "light"
     },
     "output_type": "display_data"
    }
   ],
   "source": [
    "svm_radial = SVC(C=1.0, kernel='rbf' , gamma=1)\n",
    "svm_radial.fit(X, Y)\n",
    "plt.scatter(X[:,0], X[:,1], s=70, c=Y, cmap=plt.cm.Paired)\n",
    "plt.xlabel( 'X1' )\n",
    "plt.ylabel('X2' )\n",
    "h=0.02\n",
    "pad=0.25\n",
    "x_min, x_max = X[: , 0].min()-pad, X[: , 0].max()+pad\n",
    "y_min, y_max = X[: , 1].min()-pad, X[: , 1].max()+pad\n",
    "xx, yy = np.meshgrid(np.arange(x_min, x_max, h), np.arange(y_min, y_max, h)) \n",
    "Z = svm_radial.predict(np.c_[xx.ravel(), yy.ravel()])\n",
    "Z = Z.reshape(xx.shape)\n",
    "plt.contourf(xx, yy, Z, cmap=plt.cm.Paired, alpha=0.2)\n"
   ]
  },
  {
   "cell_type": "markdown",
   "id": "a6d49135",
   "metadata": {},
   "source": [
    " [graded question] Fit an SVM with a radial kernel. You will need to specify the value of ther parameter γ. Perform 10-fold-CV in order to select the best values of the tuning parameters C and γ. You can use the following code :"
   ]
  },
  {
   "cell_type": "code",
   "execution_count": 77,
   "id": "e799bff2",
   "metadata": {},
   "outputs": [
    {
     "data": {
      "text/plain": [
       "GridSearchCV(cv=10, error_score=nan,\n",
       "             estimator=SVC(C=1.0, break_ties=False, cache_size=200,\n",
       "                           class_weight=None, coef0=0.0,\n",
       "                           decision_function_shape='ovr', degree=3,\n",
       "                           gamma='scale', kernel='rbf', max_iter=-1,\n",
       "                           probability=False, random_state=None, shrinking=True,\n",
       "                           tol=0.001, verbose=False),\n",
       "             iid='deprecated', n_jobs=None,\n",
       "             param_grid=[{'C': [0.01, 0.1, 1, 10, 100],\n",
       "                          'gamma': [0.5, 1, 2, 3, 4]}],\n",
       "             pre_dispatch='2*n_jobs', refit=True, return_train_score=False,\n",
       "             scoring='accuracy', verbose=0)"
      ]
     },
     "execution_count": 77,
     "metadata": {},
     "output_type": "execute_result"
    }
   ],
   "source": [
    "tuned_parameters = [{'C': [0.01, 0.1, 1, 10, 100], 'gamma': [0.5, 1,2,3,4]}]\n",
    "svm_radial_auto_CV=GridSearchCV(SVC(kernel='rbf'), tuned_parameters, cv=10, scoring='accuracy')\n",
    "\n",
    "svm_radial_auto_CV.fit(x_train , np.ravel(y_train ))"
   ]
  },
  {
   "cell_type": "code",
   "execution_count": 78,
   "id": "3f8e12f6",
   "metadata": {},
   "outputs": [
    {
     "name": "stdout",
     "output_type": "stream",
     "text": [
      "{'C': 1, 'gamma': 0.5}\n"
     ]
    }
   ],
   "source": [
    "print(svm_radial_auto_CV.best_params_)"
   ]
  },
  {
   "cell_type": "code",
   "execution_count": 64,
   "id": "4585a4da",
   "metadata": {},
   "outputs": [
    {
     "name": "stdout",
     "output_type": "stream",
     "text": [
      "[[28  2]\n",
      " [ 6 24]]\n",
      "              precision    recall  f1-score   support\n",
      "\n",
      "           0      0.824     0.933     0.875        30\n",
      "           1      0.923     0.800     0.857        30\n",
      "\n",
      "    accuracy                          0.867        60\n",
      "   macro avg      0.873     0.867     0.866        60\n",
      "weighted avg      0.873     0.867     0.866        60\n",
      "\n"
     ]
    }
   ],
   "source": [
    "#Training SVM with best C\n",
    "svm_best_c_gamma = SVC(C=1, gamma=0.5, kernel=\"linear\" )\n",
    "svm_best_c_gamma.fit(x_train , np.ravel(y_train ))\n",
    "y_svm_best_c_gamma = svm_best_c_gamma.predict(x_test)\n",
    "#print(svm_radial_auto_CV.support_)\n",
    "\n",
    "print ( confusion_matrix (y_svm_best_c_gamma, y_test ) )\n",
    "print ( classification_report ( y_svm_best_c_gamma , y_test , digits =3))"
   ]
  },
  {
   "cell_type": "markdown",
   "id": "45301de6",
   "metadata": {},
   "source": [
    "--- ANSWER --- = As it can be observed, the classification report metrics have improved than with C=0.001 and a default gamma, so now the results are the same as when using the best decision tree, so the process to get the best SVM is probably very similar in cost to get the best decision tree. It can be inferred that the largest C value and the smallest gamma value worked at our favor in this case probably due to the fact that the penalty argument is large, so there were be less support vectors violating the margin."
   ]
  },
  {
   "cell_type": "markdown",
   "id": "ae1a5d39",
   "metadata": {},
   "source": [
    "[graded question] Fit an SVM with a polynomial kernel. You will need to specify the degree of the polynomial kernel. Perform 10-fold-CV in order to select the best values of the tuning parameters C among [0.1, 1, 10] and polynomial degree [3,4,5]. Calculate performance metrics (accuracy, confusion matrix, etc), comment on the results."
   ]
  },
  {
   "cell_type": "code",
   "execution_count": 79,
   "id": "b8407826",
   "metadata": {},
   "outputs": [
    {
     "name": "stdout",
     "output_type": "stream",
     "text": [
      "{'C': 1, 'degree': 3}\n"
     ]
    }
   ],
   "source": [
    "polynomial_parameters = [{'C': [0.1, 1, 10], 'degree': [3,4,5]}]\n",
    "svm_polynomial=GridSearchCV(SVC(kernel='rbf'), polynomial_parameters, cv=10, scoring='accuracy')\n",
    "svm_polynomial.fit(x_train , np.ravel(y_train ))\n",
    "print(svm_polynomial.best_params_)"
   ]
  },
  {
   "cell_type": "code",
   "execution_count": 80,
   "id": "be2497b4",
   "metadata": {},
   "outputs": [
    {
     "name": "stdout",
     "output_type": "stream",
     "text": [
      "[[27  3]\n",
      " [ 7 23]]\n",
      "              precision    recall  f1-score   support\n",
      "\n",
      "           0      0.794     0.900     0.844        30\n",
      "           1      0.885     0.767     0.821        30\n",
      "\n",
      "    accuracy                          0.833        60\n",
      "   macro avg      0.839     0.833     0.833        60\n",
      "weighted avg      0.839     0.833     0.833        60\n",
      "\n"
     ]
    }
   ],
   "source": [
    "y_svm_polynomial = svm_polynomial.predict(x_test)\n",
    "#print(svm_radial_auto_CV.support_)\n",
    "\n",
    "print ( confusion_matrix (y_svm_polynomial, y_test ) )\n",
    "print ( classification_report ( y_svm_polynomial , y_test , digits =3))"
   ]
  },
  {
   "cell_type": "markdown",
   "id": "6be8bf30",
   "metadata": {},
   "source": [
    "---ANSWER--- = The best values were {'C': 1, 'degree': 3}, however, the classification report scores' did not improve in comparision with the SVM with the parameters {'C': 1, 'gamma': 0.5}, however it can be infered that the best value for C it's 1 in which ever SVM, while curiously the linear function worked better in this scenario than the polynomial one maybe due to a probably in overfitting, but it is still not that far from the best result if we look at the confusion matrix for the test set, where we can observe there is only one less true positive."
   ]
  },
  {
   "cell_type": "markdown",
   "id": "14d1a9be",
   "metadata": {},
   "source": [
    "[graded question] Make a summary table with the performance metrics of all the classifiers fitted in this lab and make your general conclusions.\n",
    "\n",
    "--- ANSWER --- = As it can be observed, the accuracy in all of the classifiers moves around 0.82 to 0.89 which means that they all present very similar and limitated behavior. After configuring all these different models we can observe that their computational cost its very similar as well in order to get the best scores with different parameters for each classifier. However, the classifier that showd the best performance of all, is the Random Forest with the parameters of:\n",
    "- max_features= 2\n",
    "- random_state= 1\n",
    "\n",
    "It can be infered that the classifer allowed to reduce succesfully the variance between all the trees when averaging the estimates so it can be concluded that the decorrelation of these trees was the best solution for this scenario.\n",
    "\n"
   ]
  }
 ],
 "metadata": {
  "kernelspec": {
   "display_name": "Python 3.7.6 ('base')",
   "language": "python",
   "name": "python3"
  },
  "language_info": {
   "codemirror_mode": {
    "name": "ipython",
    "version": 3
   },
   "file_extension": ".py",
   "mimetype": "text/x-python",
   "name": "python",
   "nbconvert_exporter": "python",
   "pygments_lexer": "ipython3",
   "version": "3.7.6"
  },
  "vscode": {
   "interpreter": {
    "hash": "fb43441a61ca617217a165e87933dbbd63a2349b85217941cdceeb4146149071"
   }
  }
 },
 "nbformat": 4,
 "nbformat_minor": 5
}
